{
  "cells": [
    {
      "cell_type": "code",
      "source": [
        "!pip install category_encoders &> /dev/null"
      ],
      "metadata": {
        "id": "cKr93aP6Q0wp"
      },
      "execution_count": 1,
      "outputs": []
    },
    {
      "cell_type": "code",
      "execution_count": 2,
      "metadata": {
        "id": "W5E17SryPauV"
      },
      "outputs": [],
      "source": [
        "# Importing libraries\n",
        "# Numpy for array operations and also to do calculations\n",
        "import numpy as np\n",
        "# Pandas for load dataset and manipulation of tabular data\n",
        "import pandas as pd\n",
        "# For plotting\n",
        "import seaborn as sns\n",
        "import plotly.express as px\n",
        "import plotly.figure_factory as ff\n",
        "import matplotlib.pyplot as plt\n",
        "%matplotlib inline\n",
        "\n",
        "#from matplotlib import rcParams\n",
        "#import matplotlib.gridspec as gridspec\n",
        "#from IPython.core.pylabtools import figsize\n",
        "#from datasist.structdata import detect_outliers\n",
        "\n",
        "# For importing dataset from url\n",
        "import urllib.request\n",
        "# To interact with the underlying Operating System\n",
        "import os\n",
        "# For numerical computation and ML modeling phase\n",
        "#import tensorflow as tf\n",
        "# to manipulate date and time\n",
        "#from datetime import datetime, timedelta\n",
        "# Generate words cloud\n",
        "#from wordcloud import WordCloud\n",
        "# Import Images to notebook\n",
        "#from IPython.display import Image\n",
        "# For statistical analysis\n",
        "from scipy import stats\n",
        "# Set warnings to be ignored\n",
        "import warnings\n",
        "warnings.filterwarnings(\"ignore\")"
      ]
    },
    {
      "cell_type": "code",
      "source": [
        "\n",
        "from sklearn.model_selection import train_test_split\n",
        "from sklearn.compose import ColumnTransformer\n",
        "from sklearn.preprocessing import OneHotEncoder\n",
        "from sklearn.preprocessing import RobustScaler\n",
        "from category_encoders import OrdinalEncoder\n",
        "from category_encoders import BinaryEncoder\n",
        "from sklearn.model_selection import cross_validate\n",
        "from sklearn.neural_network import MLPRegressor\n",
        "from sklearn.metrics import mean_squared_error\n",
        "from sklearn.pipeline import Pipeline\n",
        "from sklearn import set_config\n",
        "from sklearn.metrics import r2_score,mean_absolute_error\n",
        "\n",
        "from sklearn.ensemble import GradientBoostingRegressor\n",
        "from sklearn.ensemble import RandomForestRegressor\n",
        "from sklearn.linear_model import LinearRegression\n",
        "from sklearn.neighbors import KNeighborsRegressor\n",
        "from sklearn.tree import DecisionTreeRegressor\n",
        "from sklearn.svm import SVR"
      ],
      "metadata": {
        "id": "QT_wIK0CQvtw"
      },
      "execution_count": 3,
      "outputs": []
    },
    {
      "cell_type": "code",
      "source": [],
      "metadata": {
        "id": "O_1giWNsFcgC"
      },
      "execution_count": null,
      "outputs": []
    },
    {
      "cell_type": "code",
      "source": [
        "from google.colab import drive\n",
        "drive.mount('/content/drive')"
      ],
      "metadata": {
        "id": "wK7aEVg6FdAc",
        "outputId": "6456a056-45b3-4885-f751-68027cc1e45d",
        "colab": {
          "base_uri": "https://localhost:8080/"
        }
      },
      "execution_count": 4,
      "outputs": [
        {
          "output_type": "stream",
          "name": "stdout",
          "text": [
            "Mounted at /content/drive\n"
          ]
        }
      ]
    },
    {
      "cell_type": "code",
      "source": [
        "# Run this code to load data from google drive (if you are on google cloud colab)\n",
        "df = pd.read_csv('/content/drive/MyDrive/Datasets/cleaned_autos.csv')"
      ],
      "metadata": {
        "id": "_wAH029mFaeA"
      },
      "execution_count": 6,
      "outputs": []
    },
    {
      "cell_type": "code",
      "execution_count": 9,
      "metadata": {
        "id": "kF5JuCVWPauX"
      },
      "outputs": [],
      "source": [
        "# Use this line of code to load data from local machine/folder\n",
        "#df = df = pd.read_csv('cleaned_autos.csv')"
      ]
    },
    {
      "cell_type": "code",
      "execution_count": 10,
      "metadata": {
        "colab": {
          "base_uri": "https://localhost:8080/",
          "height": 400
        },
        "id": "wGwxOVFkPauY",
        "outputId": "74e45984-4dc9-4834-9980-9a24c0064598"
      },
      "outputs": [
        {
          "output_type": "execute_result",
          "data": {
            "text/plain": [
              "           dateCrawled  seller offerType  price vehicleType  \\\n",
              "0  2016-03-17 16:54:04  privat   Angebot   1500  kleinwagen   \n",
              "1  2016-03-31 17:25:20  privat   Angebot   3600  kleinwagen   \n",
              "2  2016-04-01 20:48:51  privat   Angebot   2200      cabrio   \n",
              "3  2016-03-26 19:54:18  privat   Angebot   2000   limousine   \n",
              "4  2016-04-07 10:06:22  privat   Angebot   2799       kombi   \n",
              "\n",
              "   yearOfRegistration  gearbox  powerPS    model  kilometer  \\\n",
              "0                2001  manuell       75     golf     150000   \n",
              "1                2008  manuell       69    fabia      90000   \n",
              "2                2004  manuell      109  2_reihe     150000   \n",
              "3                2004  manuell      105  3_reihe     150000   \n",
              "4                2005  manuell      140   passat     150000   \n",
              "\n",
              "   monthOfRegistration fuelType       brand notRepairedDamage  \\\n",
              "0                    6   benzin  volkswagen              nein   \n",
              "1                    7   diesel       skoda              nein   \n",
              "2                    8   benzin     peugeot              nein   \n",
              "3                   12   benzin       mazda              nein   \n",
              "4                   12   diesel  volkswagen                ja   \n",
              "\n",
              "           dateCreated             lastSeen  \n",
              "0  2016-03-17 00:00:00  2016-03-17 17:40:17  \n",
              "1  2016-03-31 00:00:00  2016-04-06 10:17:21  \n",
              "2  2016-04-01 00:00:00  2016-04-05 18:18:39  \n",
              "3  2016-03-26 00:00:00  2016-04-06 10:45:34  \n",
              "4  2016-04-07 00:00:00  2016-04-07 10:25:17  "
            ],
            "text/html": [
              "\n",
              "  <div id=\"df-d9ae6b06-4036-4cad-bb69-cc3ce9c10cd9\" class=\"colab-df-container\">\n",
              "    <div>\n",
              "<style scoped>\n",
              "    .dataframe tbody tr th:only-of-type {\n",
              "        vertical-align: middle;\n",
              "    }\n",
              "\n",
              "    .dataframe tbody tr th {\n",
              "        vertical-align: top;\n",
              "    }\n",
              "\n",
              "    .dataframe thead th {\n",
              "        text-align: right;\n",
              "    }\n",
              "</style>\n",
              "<table border=\"1\" class=\"dataframe\">\n",
              "  <thead>\n",
              "    <tr style=\"text-align: right;\">\n",
              "      <th></th>\n",
              "      <th>dateCrawled</th>\n",
              "      <th>seller</th>\n",
              "      <th>offerType</th>\n",
              "      <th>price</th>\n",
              "      <th>vehicleType</th>\n",
              "      <th>yearOfRegistration</th>\n",
              "      <th>gearbox</th>\n",
              "      <th>powerPS</th>\n",
              "      <th>model</th>\n",
              "      <th>kilometer</th>\n",
              "      <th>monthOfRegistration</th>\n",
              "      <th>fuelType</th>\n",
              "      <th>brand</th>\n",
              "      <th>notRepairedDamage</th>\n",
              "      <th>dateCreated</th>\n",
              "      <th>lastSeen</th>\n",
              "    </tr>\n",
              "  </thead>\n",
              "  <tbody>\n",
              "    <tr>\n",
              "      <th>0</th>\n",
              "      <td>2016-03-17 16:54:04</td>\n",
              "      <td>privat</td>\n",
              "      <td>Angebot</td>\n",
              "      <td>1500</td>\n",
              "      <td>kleinwagen</td>\n",
              "      <td>2001</td>\n",
              "      <td>manuell</td>\n",
              "      <td>75</td>\n",
              "      <td>golf</td>\n",
              "      <td>150000</td>\n",
              "      <td>6</td>\n",
              "      <td>benzin</td>\n",
              "      <td>volkswagen</td>\n",
              "      <td>nein</td>\n",
              "      <td>2016-03-17 00:00:00</td>\n",
              "      <td>2016-03-17 17:40:17</td>\n",
              "    </tr>\n",
              "    <tr>\n",
              "      <th>1</th>\n",
              "      <td>2016-03-31 17:25:20</td>\n",
              "      <td>privat</td>\n",
              "      <td>Angebot</td>\n",
              "      <td>3600</td>\n",
              "      <td>kleinwagen</td>\n",
              "      <td>2008</td>\n",
              "      <td>manuell</td>\n",
              "      <td>69</td>\n",
              "      <td>fabia</td>\n",
              "      <td>90000</td>\n",
              "      <td>7</td>\n",
              "      <td>diesel</td>\n",
              "      <td>skoda</td>\n",
              "      <td>nein</td>\n",
              "      <td>2016-03-31 00:00:00</td>\n",
              "      <td>2016-04-06 10:17:21</td>\n",
              "    </tr>\n",
              "    <tr>\n",
              "      <th>2</th>\n",
              "      <td>2016-04-01 20:48:51</td>\n",
              "      <td>privat</td>\n",
              "      <td>Angebot</td>\n",
              "      <td>2200</td>\n",
              "      <td>cabrio</td>\n",
              "      <td>2004</td>\n",
              "      <td>manuell</td>\n",
              "      <td>109</td>\n",
              "      <td>2_reihe</td>\n",
              "      <td>150000</td>\n",
              "      <td>8</td>\n",
              "      <td>benzin</td>\n",
              "      <td>peugeot</td>\n",
              "      <td>nein</td>\n",
              "      <td>2016-04-01 00:00:00</td>\n",
              "      <td>2016-04-05 18:18:39</td>\n",
              "    </tr>\n",
              "    <tr>\n",
              "      <th>3</th>\n",
              "      <td>2016-03-26 19:54:18</td>\n",
              "      <td>privat</td>\n",
              "      <td>Angebot</td>\n",
              "      <td>2000</td>\n",
              "      <td>limousine</td>\n",
              "      <td>2004</td>\n",
              "      <td>manuell</td>\n",
              "      <td>105</td>\n",
              "      <td>3_reihe</td>\n",
              "      <td>150000</td>\n",
              "      <td>12</td>\n",
              "      <td>benzin</td>\n",
              "      <td>mazda</td>\n",
              "      <td>nein</td>\n",
              "      <td>2016-03-26 00:00:00</td>\n",
              "      <td>2016-04-06 10:45:34</td>\n",
              "    </tr>\n",
              "    <tr>\n",
              "      <th>4</th>\n",
              "      <td>2016-04-07 10:06:22</td>\n",
              "      <td>privat</td>\n",
              "      <td>Angebot</td>\n",
              "      <td>2799</td>\n",
              "      <td>kombi</td>\n",
              "      <td>2005</td>\n",
              "      <td>manuell</td>\n",
              "      <td>140</td>\n",
              "      <td>passat</td>\n",
              "      <td>150000</td>\n",
              "      <td>12</td>\n",
              "      <td>diesel</td>\n",
              "      <td>volkswagen</td>\n",
              "      <td>ja</td>\n",
              "      <td>2016-04-07 00:00:00</td>\n",
              "      <td>2016-04-07 10:25:17</td>\n",
              "    </tr>\n",
              "  </tbody>\n",
              "</table>\n",
              "</div>\n",
              "    <div class=\"colab-df-buttons\">\n",
              "\n",
              "  <div class=\"colab-df-container\">\n",
              "    <button class=\"colab-df-convert\" onclick=\"convertToInteractive('df-d9ae6b06-4036-4cad-bb69-cc3ce9c10cd9')\"\n",
              "            title=\"Convert this dataframe to an interactive table.\"\n",
              "            style=\"display:none;\">\n",
              "\n",
              "  <svg xmlns=\"http://www.w3.org/2000/svg\" height=\"24px\" viewBox=\"0 -960 960 960\">\n",
              "    <path d=\"M120-120v-720h720v720H120Zm60-500h600v-160H180v160Zm220 220h160v-160H400v160Zm0 220h160v-160H400v160ZM180-400h160v-160H180v160Zm440 0h160v-160H620v160ZM180-180h160v-160H180v160Zm440 0h160v-160H620v160Z\"/>\n",
              "  </svg>\n",
              "    </button>\n",
              "\n",
              "  <style>\n",
              "    .colab-df-container {\n",
              "      display:flex;\n",
              "      gap: 12px;\n",
              "    }\n",
              "\n",
              "    .colab-df-convert {\n",
              "      background-color: #E8F0FE;\n",
              "      border: none;\n",
              "      border-radius: 50%;\n",
              "      cursor: pointer;\n",
              "      display: none;\n",
              "      fill: #1967D2;\n",
              "      height: 32px;\n",
              "      padding: 0 0 0 0;\n",
              "      width: 32px;\n",
              "    }\n",
              "\n",
              "    .colab-df-convert:hover {\n",
              "      background-color: #E2EBFA;\n",
              "      box-shadow: 0px 1px 2px rgba(60, 64, 67, 0.3), 0px 1px 3px 1px rgba(60, 64, 67, 0.15);\n",
              "      fill: #174EA6;\n",
              "    }\n",
              "\n",
              "    .colab-df-buttons div {\n",
              "      margin-bottom: 4px;\n",
              "    }\n",
              "\n",
              "    [theme=dark] .colab-df-convert {\n",
              "      background-color: #3B4455;\n",
              "      fill: #D2E3FC;\n",
              "    }\n",
              "\n",
              "    [theme=dark] .colab-df-convert:hover {\n",
              "      background-color: #434B5C;\n",
              "      box-shadow: 0px 1px 3px 1px rgba(0, 0, 0, 0.15);\n",
              "      filter: drop-shadow(0px 1px 2px rgba(0, 0, 0, 0.3));\n",
              "      fill: #FFFFFF;\n",
              "    }\n",
              "  </style>\n",
              "\n",
              "    <script>\n",
              "      const buttonEl =\n",
              "        document.querySelector('#df-d9ae6b06-4036-4cad-bb69-cc3ce9c10cd9 button.colab-df-convert');\n",
              "      buttonEl.style.display =\n",
              "        google.colab.kernel.accessAllowed ? 'block' : 'none';\n",
              "\n",
              "      async function convertToInteractive(key) {\n",
              "        const element = document.querySelector('#df-d9ae6b06-4036-4cad-bb69-cc3ce9c10cd9');\n",
              "        const dataTable =\n",
              "          await google.colab.kernel.invokeFunction('convertToInteractive',\n",
              "                                                    [key], {});\n",
              "        if (!dataTable) return;\n",
              "\n",
              "        const docLinkHtml = 'Like what you see? Visit the ' +\n",
              "          '<a target=\"_blank\" href=https://colab.research.google.com/notebooks/data_table.ipynb>data table notebook</a>'\n",
              "          + ' to learn more about interactive tables.';\n",
              "        element.innerHTML = '';\n",
              "        dataTable['output_type'] = 'display_data';\n",
              "        await google.colab.output.renderOutput(dataTable, element);\n",
              "        const docLink = document.createElement('div');\n",
              "        docLink.innerHTML = docLinkHtml;\n",
              "        element.appendChild(docLink);\n",
              "      }\n",
              "    </script>\n",
              "  </div>\n",
              "\n",
              "\n",
              "<div id=\"df-47dac9e2-bf5d-4f75-9d83-2ebc223a55a8\">\n",
              "  <button class=\"colab-df-quickchart\" onclick=\"quickchart('df-47dac9e2-bf5d-4f75-9d83-2ebc223a55a8')\"\n",
              "            title=\"Suggest charts\"\n",
              "            style=\"display:none;\">\n",
              "\n",
              "<svg xmlns=\"http://www.w3.org/2000/svg\" height=\"24px\"viewBox=\"0 0 24 24\"\n",
              "     width=\"24px\">\n",
              "    <g>\n",
              "        <path d=\"M19 3H5c-1.1 0-2 .9-2 2v14c0 1.1.9 2 2 2h14c1.1 0 2-.9 2-2V5c0-1.1-.9-2-2-2zM9 17H7v-7h2v7zm4 0h-2V7h2v10zm4 0h-2v-4h2v4z\"/>\n",
              "    </g>\n",
              "</svg>\n",
              "  </button>\n",
              "\n",
              "<style>\n",
              "  .colab-df-quickchart {\n",
              "      --bg-color: #E8F0FE;\n",
              "      --fill-color: #1967D2;\n",
              "      --hover-bg-color: #E2EBFA;\n",
              "      --hover-fill-color: #174EA6;\n",
              "      --disabled-fill-color: #AAA;\n",
              "      --disabled-bg-color: #DDD;\n",
              "  }\n",
              "\n",
              "  [theme=dark] .colab-df-quickchart {\n",
              "      --bg-color: #3B4455;\n",
              "      --fill-color: #D2E3FC;\n",
              "      --hover-bg-color: #434B5C;\n",
              "      --hover-fill-color: #FFFFFF;\n",
              "      --disabled-bg-color: #3B4455;\n",
              "      --disabled-fill-color: #666;\n",
              "  }\n",
              "\n",
              "  .colab-df-quickchart {\n",
              "    background-color: var(--bg-color);\n",
              "    border: none;\n",
              "    border-radius: 50%;\n",
              "    cursor: pointer;\n",
              "    display: none;\n",
              "    fill: var(--fill-color);\n",
              "    height: 32px;\n",
              "    padding: 0;\n",
              "    width: 32px;\n",
              "  }\n",
              "\n",
              "  .colab-df-quickchart:hover {\n",
              "    background-color: var(--hover-bg-color);\n",
              "    box-shadow: 0 1px 2px rgba(60, 64, 67, 0.3), 0 1px 3px 1px rgba(60, 64, 67, 0.15);\n",
              "    fill: var(--button-hover-fill-color);\n",
              "  }\n",
              "\n",
              "  .colab-df-quickchart-complete:disabled,\n",
              "  .colab-df-quickchart-complete:disabled:hover {\n",
              "    background-color: var(--disabled-bg-color);\n",
              "    fill: var(--disabled-fill-color);\n",
              "    box-shadow: none;\n",
              "  }\n",
              "\n",
              "  .colab-df-spinner {\n",
              "    border: 2px solid var(--fill-color);\n",
              "    border-color: transparent;\n",
              "    border-bottom-color: var(--fill-color);\n",
              "    animation:\n",
              "      spin 1s steps(1) infinite;\n",
              "  }\n",
              "\n",
              "  @keyframes spin {\n",
              "    0% {\n",
              "      border-color: transparent;\n",
              "      border-bottom-color: var(--fill-color);\n",
              "      border-left-color: var(--fill-color);\n",
              "    }\n",
              "    20% {\n",
              "      border-color: transparent;\n",
              "      border-left-color: var(--fill-color);\n",
              "      border-top-color: var(--fill-color);\n",
              "    }\n",
              "    30% {\n",
              "      border-color: transparent;\n",
              "      border-left-color: var(--fill-color);\n",
              "      border-top-color: var(--fill-color);\n",
              "      border-right-color: var(--fill-color);\n",
              "    }\n",
              "    40% {\n",
              "      border-color: transparent;\n",
              "      border-right-color: var(--fill-color);\n",
              "      border-top-color: var(--fill-color);\n",
              "    }\n",
              "    60% {\n",
              "      border-color: transparent;\n",
              "      border-right-color: var(--fill-color);\n",
              "    }\n",
              "    80% {\n",
              "      border-color: transparent;\n",
              "      border-right-color: var(--fill-color);\n",
              "      border-bottom-color: var(--fill-color);\n",
              "    }\n",
              "    90% {\n",
              "      border-color: transparent;\n",
              "      border-bottom-color: var(--fill-color);\n",
              "    }\n",
              "  }\n",
              "</style>\n",
              "\n",
              "  <script>\n",
              "    async function quickchart(key) {\n",
              "      const quickchartButtonEl =\n",
              "        document.querySelector('#' + key + ' button');\n",
              "      quickchartButtonEl.disabled = true;  // To prevent multiple clicks.\n",
              "      quickchartButtonEl.classList.add('colab-df-spinner');\n",
              "      try {\n",
              "        const charts = await google.colab.kernel.invokeFunction(\n",
              "            'suggestCharts', [key], {});\n",
              "      } catch (error) {\n",
              "        console.error('Error during call to suggestCharts:', error);\n",
              "      }\n",
              "      quickchartButtonEl.classList.remove('colab-df-spinner');\n",
              "      quickchartButtonEl.classList.add('colab-df-quickchart-complete');\n",
              "    }\n",
              "    (() => {\n",
              "      let quickchartButtonEl =\n",
              "        document.querySelector('#df-47dac9e2-bf5d-4f75-9d83-2ebc223a55a8 button');\n",
              "      quickchartButtonEl.style.display =\n",
              "        google.colab.kernel.accessAllowed ? 'block' : 'none';\n",
              "    })();\n",
              "  </script>\n",
              "</div>\n",
              "\n",
              "    </div>\n",
              "  </div>\n"
            ]
          },
          "metadata": {},
          "execution_count": 10
        }
      ],
      "source": [
        "df.head()"
      ]
    },
    {
      "cell_type": "code",
      "execution_count": 11,
      "metadata": {
        "colab": {
          "base_uri": "https://localhost:8080/"
        },
        "id": "KZaqEMZEPauZ",
        "outputId": "00e09c19-4518-4e4b-a201-27305be66448"
      },
      "outputs": [
        {
          "output_type": "execute_result",
          "data": {
            "text/plain": [
              "(197717, 16)"
            ]
          },
          "metadata": {},
          "execution_count": 11
        }
      ],
      "source": [
        "df.shape"
      ]
    },
    {
      "cell_type": "code",
      "execution_count": 12,
      "metadata": {
        "colab": {
          "base_uri": "https://localhost:8080/"
        },
        "id": "a3CQ8CjLPaua",
        "outputId": "9e1ebc51-6172-43fa-c8dc-b38c564b6bd8"
      },
      "outputs": [
        {
          "output_type": "stream",
          "name": "stdout",
          "text": [
            "<class 'pandas.core.frame.DataFrame'>\n",
            "RangeIndex: 197717 entries, 0 to 197716\n",
            "Data columns (total 16 columns):\n",
            " #   Column               Non-Null Count   Dtype \n",
            "---  ------               --------------   ----- \n",
            " 0   dateCrawled          197717 non-null  object\n",
            " 1   seller               197717 non-null  object\n",
            " 2   offerType            197717 non-null  object\n",
            " 3   price                197717 non-null  int64 \n",
            " 4   vehicleType          197717 non-null  object\n",
            " 5   yearOfRegistration   197717 non-null  int64 \n",
            " 6   gearbox              197717 non-null  object\n",
            " 7   powerPS              197717 non-null  int64 \n",
            " 8   model                197717 non-null  object\n",
            " 9   kilometer            197717 non-null  int64 \n",
            " 10  monthOfRegistration  197717 non-null  int64 \n",
            " 11  fuelType             197717 non-null  object\n",
            " 12  brand                197717 non-null  object\n",
            " 13  notRepairedDamage    197717 non-null  object\n",
            " 14  dateCreated          197717 non-null  object\n",
            " 15  lastSeen             197717 non-null  object\n",
            "dtypes: int64(5), object(11)\n",
            "memory usage: 24.1+ MB\n"
          ]
        }
      ],
      "source": [
        "df.info()"
      ]
    },
    {
      "cell_type": "code",
      "execution_count": 13,
      "metadata": {
        "colab": {
          "base_uri": "https://localhost:8080/",
          "height": 301
        },
        "id": "Aj3Id9rAPaua",
        "outputId": "ad8f3590-5ebd-4519-cab3-3675fd032748"
      },
      "outputs": [
        {
          "output_type": "execute_result",
          "data": {
            "text/plain": [
              "               price  yearOfRegistration        powerPS      kilometer  \\\n",
              "count  197717.000000       197717.000000  197717.000000  197717.000000   \n",
              "mean     6035.413156         2004.058609     121.327529  123952.568570   \n",
              "std      4668.025997            6.042001      49.274865   38744.157093   \n",
              "min      1001.000000         1923.000000       0.000000    5000.000000   \n",
              "25%      2390.000000         2001.000000      87.000000  100000.000000   \n",
              "50%      4500.000000         2005.000000     116.000000  150000.000000   \n",
              "75%      8499.000000         2008.000000     150.000000  150000.000000   \n",
              "max     21210.000000         2018.000000     252.000000  150000.000000   \n",
              "\n",
              "       monthOfRegistration  \n",
              "count        197717.000000  \n",
              "mean              6.281746  \n",
              "std               3.429715  \n",
              "min               0.000000  \n",
              "25%               3.000000  \n",
              "50%               6.000000  \n",
              "75%               9.000000  \n",
              "max              12.000000  "
            ],
            "text/html": [
              "\n",
              "  <div id=\"df-d247638f-e052-4867-9e6b-736657404320\" class=\"colab-df-container\">\n",
              "    <div>\n",
              "<style scoped>\n",
              "    .dataframe tbody tr th:only-of-type {\n",
              "        vertical-align: middle;\n",
              "    }\n",
              "\n",
              "    .dataframe tbody tr th {\n",
              "        vertical-align: top;\n",
              "    }\n",
              "\n",
              "    .dataframe thead th {\n",
              "        text-align: right;\n",
              "    }\n",
              "</style>\n",
              "<table border=\"1\" class=\"dataframe\">\n",
              "  <thead>\n",
              "    <tr style=\"text-align: right;\">\n",
              "      <th></th>\n",
              "      <th>price</th>\n",
              "      <th>yearOfRegistration</th>\n",
              "      <th>powerPS</th>\n",
              "      <th>kilometer</th>\n",
              "      <th>monthOfRegistration</th>\n",
              "    </tr>\n",
              "  </thead>\n",
              "  <tbody>\n",
              "    <tr>\n",
              "      <th>count</th>\n",
              "      <td>197717.000000</td>\n",
              "      <td>197717.000000</td>\n",
              "      <td>197717.000000</td>\n",
              "      <td>197717.000000</td>\n",
              "      <td>197717.000000</td>\n",
              "    </tr>\n",
              "    <tr>\n",
              "      <th>mean</th>\n",
              "      <td>6035.413156</td>\n",
              "      <td>2004.058609</td>\n",
              "      <td>121.327529</td>\n",
              "      <td>123952.568570</td>\n",
              "      <td>6.281746</td>\n",
              "    </tr>\n",
              "    <tr>\n",
              "      <th>std</th>\n",
              "      <td>4668.025997</td>\n",
              "      <td>6.042001</td>\n",
              "      <td>49.274865</td>\n",
              "      <td>38744.157093</td>\n",
              "      <td>3.429715</td>\n",
              "    </tr>\n",
              "    <tr>\n",
              "      <th>min</th>\n",
              "      <td>1001.000000</td>\n",
              "      <td>1923.000000</td>\n",
              "      <td>0.000000</td>\n",
              "      <td>5000.000000</td>\n",
              "      <td>0.000000</td>\n",
              "    </tr>\n",
              "    <tr>\n",
              "      <th>25%</th>\n",
              "      <td>2390.000000</td>\n",
              "      <td>2001.000000</td>\n",
              "      <td>87.000000</td>\n",
              "      <td>100000.000000</td>\n",
              "      <td>3.000000</td>\n",
              "    </tr>\n",
              "    <tr>\n",
              "      <th>50%</th>\n",
              "      <td>4500.000000</td>\n",
              "      <td>2005.000000</td>\n",
              "      <td>116.000000</td>\n",
              "      <td>150000.000000</td>\n",
              "      <td>6.000000</td>\n",
              "    </tr>\n",
              "    <tr>\n",
              "      <th>75%</th>\n",
              "      <td>8499.000000</td>\n",
              "      <td>2008.000000</td>\n",
              "      <td>150.000000</td>\n",
              "      <td>150000.000000</td>\n",
              "      <td>9.000000</td>\n",
              "    </tr>\n",
              "    <tr>\n",
              "      <th>max</th>\n",
              "      <td>21210.000000</td>\n",
              "      <td>2018.000000</td>\n",
              "      <td>252.000000</td>\n",
              "      <td>150000.000000</td>\n",
              "      <td>12.000000</td>\n",
              "    </tr>\n",
              "  </tbody>\n",
              "</table>\n",
              "</div>\n",
              "    <div class=\"colab-df-buttons\">\n",
              "\n",
              "  <div class=\"colab-df-container\">\n",
              "    <button class=\"colab-df-convert\" onclick=\"convertToInteractive('df-d247638f-e052-4867-9e6b-736657404320')\"\n",
              "            title=\"Convert this dataframe to an interactive table.\"\n",
              "            style=\"display:none;\">\n",
              "\n",
              "  <svg xmlns=\"http://www.w3.org/2000/svg\" height=\"24px\" viewBox=\"0 -960 960 960\">\n",
              "    <path d=\"M120-120v-720h720v720H120Zm60-500h600v-160H180v160Zm220 220h160v-160H400v160Zm0 220h160v-160H400v160ZM180-400h160v-160H180v160Zm440 0h160v-160H620v160ZM180-180h160v-160H180v160Zm440 0h160v-160H620v160Z\"/>\n",
              "  </svg>\n",
              "    </button>\n",
              "\n",
              "  <style>\n",
              "    .colab-df-container {\n",
              "      display:flex;\n",
              "      gap: 12px;\n",
              "    }\n",
              "\n",
              "    .colab-df-convert {\n",
              "      background-color: #E8F0FE;\n",
              "      border: none;\n",
              "      border-radius: 50%;\n",
              "      cursor: pointer;\n",
              "      display: none;\n",
              "      fill: #1967D2;\n",
              "      height: 32px;\n",
              "      padding: 0 0 0 0;\n",
              "      width: 32px;\n",
              "    }\n",
              "\n",
              "    .colab-df-convert:hover {\n",
              "      background-color: #E2EBFA;\n",
              "      box-shadow: 0px 1px 2px rgba(60, 64, 67, 0.3), 0px 1px 3px 1px rgba(60, 64, 67, 0.15);\n",
              "      fill: #174EA6;\n",
              "    }\n",
              "\n",
              "    .colab-df-buttons div {\n",
              "      margin-bottom: 4px;\n",
              "    }\n",
              "\n",
              "    [theme=dark] .colab-df-convert {\n",
              "      background-color: #3B4455;\n",
              "      fill: #D2E3FC;\n",
              "    }\n",
              "\n",
              "    [theme=dark] .colab-df-convert:hover {\n",
              "      background-color: #434B5C;\n",
              "      box-shadow: 0px 1px 3px 1px rgba(0, 0, 0, 0.15);\n",
              "      filter: drop-shadow(0px 1px 2px rgba(0, 0, 0, 0.3));\n",
              "      fill: #FFFFFF;\n",
              "    }\n",
              "  </style>\n",
              "\n",
              "    <script>\n",
              "      const buttonEl =\n",
              "        document.querySelector('#df-d247638f-e052-4867-9e6b-736657404320 button.colab-df-convert');\n",
              "      buttonEl.style.display =\n",
              "        google.colab.kernel.accessAllowed ? 'block' : 'none';\n",
              "\n",
              "      async function convertToInteractive(key) {\n",
              "        const element = document.querySelector('#df-d247638f-e052-4867-9e6b-736657404320');\n",
              "        const dataTable =\n",
              "          await google.colab.kernel.invokeFunction('convertToInteractive',\n",
              "                                                    [key], {});\n",
              "        if (!dataTable) return;\n",
              "\n",
              "        const docLinkHtml = 'Like what you see? Visit the ' +\n",
              "          '<a target=\"_blank\" href=https://colab.research.google.com/notebooks/data_table.ipynb>data table notebook</a>'\n",
              "          + ' to learn more about interactive tables.';\n",
              "        element.innerHTML = '';\n",
              "        dataTable['output_type'] = 'display_data';\n",
              "        await google.colab.output.renderOutput(dataTable, element);\n",
              "        const docLink = document.createElement('div');\n",
              "        docLink.innerHTML = docLinkHtml;\n",
              "        element.appendChild(docLink);\n",
              "      }\n",
              "    </script>\n",
              "  </div>\n",
              "\n",
              "\n",
              "<div id=\"df-d3a197dd-c2e7-46e0-a57b-ccff14d23836\">\n",
              "  <button class=\"colab-df-quickchart\" onclick=\"quickchart('df-d3a197dd-c2e7-46e0-a57b-ccff14d23836')\"\n",
              "            title=\"Suggest charts\"\n",
              "            style=\"display:none;\">\n",
              "\n",
              "<svg xmlns=\"http://www.w3.org/2000/svg\" height=\"24px\"viewBox=\"0 0 24 24\"\n",
              "     width=\"24px\">\n",
              "    <g>\n",
              "        <path d=\"M19 3H5c-1.1 0-2 .9-2 2v14c0 1.1.9 2 2 2h14c1.1 0 2-.9 2-2V5c0-1.1-.9-2-2-2zM9 17H7v-7h2v7zm4 0h-2V7h2v10zm4 0h-2v-4h2v4z\"/>\n",
              "    </g>\n",
              "</svg>\n",
              "  </button>\n",
              "\n",
              "<style>\n",
              "  .colab-df-quickchart {\n",
              "      --bg-color: #E8F0FE;\n",
              "      --fill-color: #1967D2;\n",
              "      --hover-bg-color: #E2EBFA;\n",
              "      --hover-fill-color: #174EA6;\n",
              "      --disabled-fill-color: #AAA;\n",
              "      --disabled-bg-color: #DDD;\n",
              "  }\n",
              "\n",
              "  [theme=dark] .colab-df-quickchart {\n",
              "      --bg-color: #3B4455;\n",
              "      --fill-color: #D2E3FC;\n",
              "      --hover-bg-color: #434B5C;\n",
              "      --hover-fill-color: #FFFFFF;\n",
              "      --disabled-bg-color: #3B4455;\n",
              "      --disabled-fill-color: #666;\n",
              "  }\n",
              "\n",
              "  .colab-df-quickchart {\n",
              "    background-color: var(--bg-color);\n",
              "    border: none;\n",
              "    border-radius: 50%;\n",
              "    cursor: pointer;\n",
              "    display: none;\n",
              "    fill: var(--fill-color);\n",
              "    height: 32px;\n",
              "    padding: 0;\n",
              "    width: 32px;\n",
              "  }\n",
              "\n",
              "  .colab-df-quickchart:hover {\n",
              "    background-color: var(--hover-bg-color);\n",
              "    box-shadow: 0 1px 2px rgba(60, 64, 67, 0.3), 0 1px 3px 1px rgba(60, 64, 67, 0.15);\n",
              "    fill: var(--button-hover-fill-color);\n",
              "  }\n",
              "\n",
              "  .colab-df-quickchart-complete:disabled,\n",
              "  .colab-df-quickchart-complete:disabled:hover {\n",
              "    background-color: var(--disabled-bg-color);\n",
              "    fill: var(--disabled-fill-color);\n",
              "    box-shadow: none;\n",
              "  }\n",
              "\n",
              "  .colab-df-spinner {\n",
              "    border: 2px solid var(--fill-color);\n",
              "    border-color: transparent;\n",
              "    border-bottom-color: var(--fill-color);\n",
              "    animation:\n",
              "      spin 1s steps(1) infinite;\n",
              "  }\n",
              "\n",
              "  @keyframes spin {\n",
              "    0% {\n",
              "      border-color: transparent;\n",
              "      border-bottom-color: var(--fill-color);\n",
              "      border-left-color: var(--fill-color);\n",
              "    }\n",
              "    20% {\n",
              "      border-color: transparent;\n",
              "      border-left-color: var(--fill-color);\n",
              "      border-top-color: var(--fill-color);\n",
              "    }\n",
              "    30% {\n",
              "      border-color: transparent;\n",
              "      border-left-color: var(--fill-color);\n",
              "      border-top-color: var(--fill-color);\n",
              "      border-right-color: var(--fill-color);\n",
              "    }\n",
              "    40% {\n",
              "      border-color: transparent;\n",
              "      border-right-color: var(--fill-color);\n",
              "      border-top-color: var(--fill-color);\n",
              "    }\n",
              "    60% {\n",
              "      border-color: transparent;\n",
              "      border-right-color: var(--fill-color);\n",
              "    }\n",
              "    80% {\n",
              "      border-color: transparent;\n",
              "      border-right-color: var(--fill-color);\n",
              "      border-bottom-color: var(--fill-color);\n",
              "    }\n",
              "    90% {\n",
              "      border-color: transparent;\n",
              "      border-bottom-color: var(--fill-color);\n",
              "    }\n",
              "  }\n",
              "</style>\n",
              "\n",
              "  <script>\n",
              "    async function quickchart(key) {\n",
              "      const quickchartButtonEl =\n",
              "        document.querySelector('#' + key + ' button');\n",
              "      quickchartButtonEl.disabled = true;  // To prevent multiple clicks.\n",
              "      quickchartButtonEl.classList.add('colab-df-spinner');\n",
              "      try {\n",
              "        const charts = await google.colab.kernel.invokeFunction(\n",
              "            'suggestCharts', [key], {});\n",
              "      } catch (error) {\n",
              "        console.error('Error during call to suggestCharts:', error);\n",
              "      }\n",
              "      quickchartButtonEl.classList.remove('colab-df-spinner');\n",
              "      quickchartButtonEl.classList.add('colab-df-quickchart-complete');\n",
              "    }\n",
              "    (() => {\n",
              "      let quickchartButtonEl =\n",
              "        document.querySelector('#df-d3a197dd-c2e7-46e0-a57b-ccff14d23836 button');\n",
              "      quickchartButtonEl.style.display =\n",
              "        google.colab.kernel.accessAllowed ? 'block' : 'none';\n",
              "    })();\n",
              "  </script>\n",
              "</div>\n",
              "\n",
              "    </div>\n",
              "  </div>\n"
            ]
          },
          "metadata": {},
          "execution_count": 13
        }
      ],
      "source": [
        "df.describe()"
      ]
    },
    {
      "cell_type": "code",
      "source": [
        "df.columns"
      ],
      "metadata": {
        "colab": {
          "base_uri": "https://localhost:8080/"
        },
        "id": "hY-1ujTvRYpI",
        "outputId": "48796608-87eb-4fec-96cb-ef1ad5462d2a"
      },
      "execution_count": 14,
      "outputs": [
        {
          "output_type": "execute_result",
          "data": {
            "text/plain": [
              "Index(['dateCrawled', 'seller', 'offerType', 'price', 'vehicleType',\n",
              "       'yearOfRegistration', 'gearbox', 'powerPS', 'model', 'kilometer',\n",
              "       'monthOfRegistration', 'fuelType', 'brand', 'notRepairedDamage',\n",
              "       'dateCreated', 'lastSeen'],\n",
              "      dtype='object')"
            ]
          },
          "metadata": {},
          "execution_count": 14
        }
      ]
    },
    {
      "cell_type": "code",
      "source": [
        "df = df.drop(['dateCrawled','yearOfRegistration','monthOfRegistration','dateCreated', 'lastSeen'], axis=1)"
      ],
      "metadata": {
        "id": "hIxuQMzccD26"
      },
      "execution_count": 15,
      "outputs": []
    },
    {
      "cell_type": "code",
      "source": [
        "df.columns"
      ],
      "metadata": {
        "id": "D65LKA5OGG9C",
        "outputId": "db598793-6d35-48c0-cf36-38dd5a62c8e8",
        "colab": {
          "base_uri": "https://localhost:8080/"
        }
      },
      "execution_count": 16,
      "outputs": [
        {
          "output_type": "execute_result",
          "data": {
            "text/plain": [
              "Index(['seller', 'offerType', 'price', 'vehicleType', 'gearbox', 'powerPS',\n",
              "       'model', 'kilometer', 'fuelType', 'brand', 'notRepairedDamage'],\n",
              "      dtype='object')"
            ]
          },
          "metadata": {},
          "execution_count": 16
        }
      ]
    },
    {
      "cell_type": "code",
      "source": [
        "df.powerPS.describe()"
      ],
      "metadata": {
        "colab": {
          "base_uri": "https://localhost:8080/"
        },
        "id": "3z8N14iIcmtp",
        "outputId": "6b4a38e5-ac46-4a48-8352-467d876614b7"
      },
      "execution_count": 17,
      "outputs": [
        {
          "output_type": "execute_result",
          "data": {
            "text/plain": [
              "count    197717.000000\n",
              "mean        121.327529\n",
              "std          49.274865\n",
              "min           0.000000\n",
              "25%          87.000000\n",
              "50%         116.000000\n",
              "75%         150.000000\n",
              "max         252.000000\n",
              "Name: powerPS, dtype: float64"
            ]
          },
          "metadata": {},
          "execution_count": 17
        }
      ]
    },
    {
      "cell_type": "code",
      "source": [
        "print(df.seller.unique())\n",
        "print(df.offerType.unique())\n",
        "print(df.gearbox.unique())\n",
        "print(df.notRepairedDamage.unique())\n",
        "print(\"\")\n",
        "print(df.vehicleType.unique())\n",
        "print(df.fuelType.unique())\n",
        "print(\"\")\n",
        "print(df.model.unique())\n",
        "print(\"\")\n",
        "print(df.brand.unique())\n"
      ],
      "metadata": {
        "colab": {
          "base_uri": "https://localhost:8080/"
        },
        "id": "h_uk-cwnRH5M",
        "outputId": "d28deb14-3be7-408b-fe5b-b1cfab21a384"
      },
      "execution_count": 18,
      "outputs": [
        {
          "output_type": "stream",
          "name": "stdout",
          "text": [
            "['privat' 'gewerblich']\n",
            "['Angebot' 'Gesuch']\n",
            "['manuell' 'automatik']\n",
            "['nein' 'ja']\n",
            "\n",
            "['kleinwagen' 'cabrio' 'limousine' 'kombi' 'suv' 'bus' 'coupe' 'andere']\n",
            "['benzin' 'diesel' 'lpg' 'andere' 'hybrid' 'cng' 'elektro']\n",
            "\n",
            "['golf' 'fabia' '2_reihe' '3_reihe' 'passat' 'navara' 'twingo' 'c_max'\n",
            " 'a_klasse' 'scirocco' '5er' 'civic' 'transporter' 'e_klasse' '3er'\n",
            " 'andere' 'one' '1er' 'b_klasse' 'fortwo' 'a8' 'jetta' 'c_klasse' 'micra'\n",
            " 'vito' 'sprinter' 'forester' 'fiesta' 'scenic' 'a1' 'combo' 'focus' 'tt'\n",
            " 'astra' 'a6' 'jazz' 'polo' 'slk' '80' '147' 'z_reihe' 'ibiza' 'eos' 'a4'\n",
            " 'touran' 'getz' 'insignia' 'megane' '7er' 'a3' 'lupo' 'clio' 'berlingo'\n",
            " 'tiguan' 'mustang' 'sharan' '6_reihe' 'c4' 'panda' 'up' 'i_reihe' 'ceed'\n",
            " '5_reihe' 'yeti' 'octavia' 'zafira' 'mii' 'rx_reihe' 'corsa' '6er'\n",
            " 'punto' 'fox' 'vectra' 'matiz' 'beetle' 'rio' 'touareg' 'logan' 'cuore'\n",
            " 's_max' 'modus' 'a2' 'a5' 'galaxy' 'c3' 'viano' 'mondeo' 'avensis'\n",
            " 'roomster' 'sl' 'kaefer' 'santa' 'cooper' 'sportage' 'caddy' 'clk'\n",
            " 'primera' '4_reihe' 's_klasse' 'exeo' 'juke' 'x_reihe' 'espace' 'accord'\n",
            " 'corolla' 'grand' 'phaeton' 'verso' 'swift' 'rav' 'qashqai' 'colt' '159'\n",
            " 'picanto' 'boxster' 'stilo' 'alhambra' 'transit' 'roadster' 'signum'\n",
            " 'crossfire' 'duster' 'ka' 'kangoo' 'sorento' 'v50' 'mx_reihe' '500'\n",
            " 'meriva' 'c_reihe' 'v_klasse' 'm_klasse' 'yaris' 'c5' 'aygo' 'almera'\n",
            " 'bora' 'forfour' 'agila' 'leon' 'cl' 'tigra' '156' '300c' 'ptcruiser'\n",
            " '100' 'cr_reihe' 'xc_reihe' 'escort' 'spark' 'kuga' 'x_type' 'ducato'\n",
            " 's_type' 'x_trail' 'toledo' 'altea' 'arosa' 'voyager' 'carnival' 'v70'\n",
            " 'omega' 'antara' 'c1' 'citigo' 'jimny' 'wrangler' 'lybra' 'q7' 'captiva'\n",
            " 'fusion' 'discovery' 'sandero' 'note' 'kadett' 'impreza' 'spider' '90'\n",
            " 'sirion' 'q5' 'cherokee' 'clubman' '1_reihe' 'defender' 'laguna' 'lancer'\n",
            " 'cx_reihe' 'legacy' 'pajero' 'cordoba' 'c2' 'cc' 'niva' 's60' '900'\n",
            " 'nubira' 'vivaro' 'tucson' 'g_klasse' 'freelander' 'auris' 'carisma'\n",
            " 'galant' 'lodgy' 'range_rover' 'v40' '850' 'ypsilon' 'superb' 'q3'\n",
            " 'justy' 'serie_2' 'calibra' 'glk' 'charade' 'croma' 'outlander' 'doblo'\n",
            " 'gl' 'musa' 'seicento' '9000' 'kalos' 'v60' 'bravo' '200' '601' 'r19'\n",
            " 'b_max' 'lanos' 'cayenne' 'range_rover_sport' 'aveo' 'terios' '911'\n",
            " 'm_reihe' 'materia' 'delta' 'kalina' 'i3' '145' 'samara' 'amarok'\n",
            " 'serie_3' 'kappa' 'rangerover' 'move']\n",
            "\n",
            "['volkswagen' 'skoda' 'peugeot' 'mazda' 'nissan' 'renault' 'ford'\n",
            " 'mercedes_benz' 'bmw' 'honda' 'mini' 'smart' 'audi' 'subaru' 'mitsubishi'\n",
            " 'opel' 'alfa_romeo' 'seat' 'hyundai' 'lancia' 'citroen' 'fiat' 'toyota'\n",
            " 'kia' 'chevrolet' 'dacia' 'suzuki' 'daihatsu' 'chrysler' 'jaguar' 'rover'\n",
            " 'porsche' 'jeep' 'saab' 'daewoo' 'volvo' 'land_rover' 'trabant' 'lada']\n"
          ]
        }
      ]
    },
    {
      "cell_type": "code",
      "source": [
        "len(df.model.unique())"
      ],
      "metadata": {
        "colab": {
          "base_uri": "https://localhost:8080/"
        },
        "id": "39RYQxjLg0gb",
        "outputId": "8fc467af-567f-4b17-f55d-029e977edb18"
      },
      "execution_count": 19,
      "outputs": [
        {
          "output_type": "execute_result",
          "data": {
            "text/plain": [
              "247"
            ]
          },
          "metadata": {},
          "execution_count": 19
        }
      ]
    },
    {
      "cell_type": "code",
      "source": [
        "# Splitting the data\n",
        "X = df.drop('price', axis=1)\n",
        "y = df['price']"
      ],
      "metadata": {
        "id": "0NR0DQq-RNSn"
      },
      "execution_count": 20,
      "outputs": []
    },
    {
      "cell_type": "code",
      "source": [
        "X.columns"
      ],
      "metadata": {
        "colab": {
          "base_uri": "https://localhost:8080/"
        },
        "id": "28-p_qiPeNOF",
        "outputId": "f9d18b8d-c829-4d4f-a732-efd5e2323acd"
      },
      "execution_count": 21,
      "outputs": [
        {
          "output_type": "execute_result",
          "data": {
            "text/plain": [
              "Index(['seller', 'offerType', 'vehicleType', 'gearbox', 'powerPS', 'model',\n",
              "       'kilometer', 'fuelType', 'brand', 'notRepairedDamage'],\n",
              "      dtype='object')"
            ]
          },
          "metadata": {},
          "execution_count": 21
        }
      ]
    },
    {
      "cell_type": "code",
      "source": [
        "from category_encoders import TargetEncoder\n",
        "from sklearn.model_selection import KFold\n",
        "from sklearn.preprocessing import LabelEncoder, StandardScaler\n",
        "from xgboost import XGBRegressor\n",
        "from sklearn.model_selection import GridSearchCV"
      ],
      "metadata": {
        "id": "U77afxC6hsw4"
      },
      "execution_count": 22,
      "outputs": []
    },
    {
      "cell_type": "code",
      "execution_count": 23,
      "metadata": {
        "id": "vj8N9XhpPaub"
      },
      "outputs": [],
      "source": [
        "Encoder = ColumnTransformer(\n",
        "    transformers=[\n",
        "        (\"BE\", BinaryEncoder(), ['seller', 'offerType','gearbox','notRepairedDamage']),\n",
        "         ('TE', TargetEncoder(),['vehicleType', 'fuelType','model', 'brand'])],\n",
        "    remainder = \"passthrough\")"
      ]
    },
    {
      "cell_type": "code",
      "source": [],
      "metadata": {
        "id": "xaVSGcz5SJs1"
      },
      "execution_count": 23,
      "outputs": []
    },
    {
      "cell_type": "code",
      "source": [
        "steps = []\n",
        "steps.append((\"Encoder\" , Encoder))\n",
        "steps.append((\"Scaler\" , StandardScaler()))\n",
        "steps.append((\"Model\" , KNeighborsRegressor()))\n",
        "pipeline = Pipeline(steps=steps)"
      ],
      "metadata": {
        "id": "of6Zo72cTqSt"
      },
      "execution_count": 24,
      "outputs": []
    },
    {
      "cell_type": "code",
      "source": [
        "kfold = KFold(n_splits=5, shuffle=True, random_state=0)\n",
        "results = cross_validate(pipeline , X ,y , cv = kfold , scoring=\"r2\" , return_train_score=True)\n"
      ],
      "metadata": {
        "id": "seT6BUHFTr0U"
      },
      "execution_count": 25,
      "outputs": []
    },
    {
      "cell_type": "code",
      "source": [
        "results[\"train_score\"].mean()"
      ],
      "metadata": {
        "colab": {
          "base_uri": "https://localhost:8080/"
        },
        "id": "1m-J4Nh6Uf2B",
        "outputId": "ba423046-ebe3-4eed-b8ea-17c93baa2240"
      },
      "execution_count": 26,
      "outputs": [
        {
          "output_type": "execute_result",
          "data": {
            "text/plain": [
              "0.7999958147342359"
            ]
          },
          "metadata": {},
          "execution_count": 26
        }
      ]
    },
    {
      "cell_type": "code",
      "source": [
        "results[\"test_score\"].mean()"
      ],
      "metadata": {
        "colab": {
          "base_uri": "https://localhost:8080/"
        },
        "id": "2718SL0AUgRL",
        "outputId": "a2488297-6d97-417c-ca91-8c38ddbb5a1d"
      },
      "execution_count": 27,
      "outputs": [
        {
          "output_type": "execute_result",
          "data": {
            "text/plain": [
              "0.7399488138879665"
            ]
          },
          "metadata": {},
          "execution_count": 27
        }
      ]
    },
    {
      "cell_type": "code",
      "source": [
        "models = list()\n",
        "#models.append((\"LR\" , LinearRegression()))\n",
        "models.append((\"KNN\" , KNeighborsRegressor()))\n",
        "models.append((\"DT\" , DecisionTreeRegressor()))\n",
        "models.append((\"RF\" , RandomForestRegressor()))\n",
        "models.append((\"xg\" , XGBRegressor()))"
      ],
      "metadata": {
        "id": "KKYBgTlTqAFR"
      },
      "execution_count": 28,
      "outputs": []
    },
    {
      "cell_type": "code",
      "source": [
        "for model in models:\n",
        "    steps = list()\n",
        "    steps.append((\"Encoder\" , Encoder))\n",
        "    steps.append((\"Scaler\" , RobustScaler()))\n",
        "    steps.append(model)\n",
        "    pipeline = Pipeline(steps = steps)\n",
        "    kfold = KFold(n_splits=5, shuffle=True, random_state=0)\n",
        "    scores = cross_validate(pipeline , X , y , scoring=\"r2\"  ,cv = kfold , return_train_score=True)\n",
        "    print(model[0])\n",
        "    print(\"Train_r2\" , scores[\"train_score\"].mean() )\n",
        "    print(\"-\" * 10)\n",
        "    print(\"Test_r2\" , scores[\"test_score\"].mean())\n",
        "    print(\"-\" * 20)\n",
        "    print(\"\\n\")"
      ],
      "metadata": {
        "colab": {
          "base_uri": "https://localhost:8080/"
        },
        "id": "_p1o1g9tqm1Y",
        "outputId": "75609816-02a7-48a7-c053-fc6aaf7d75ba"
      },
      "execution_count": 29,
      "outputs": [
        {
          "output_type": "stream",
          "name": "stdout",
          "text": [
            "LR\n",
            "Train_r2 0.5691211563019787\n",
            "----------\n",
            "Test_r2 -3882084233246101.0\n",
            "--------------------\n",
            "\n",
            "\n",
            "DT\n",
            "Train_r2 0.8873181381267141\n",
            "----------\n",
            "Test_r2 0.7427887351800833\n",
            "--------------------\n",
            "\n",
            "\n",
            "RF\n",
            "Train_r2 0.8776779317503944\n",
            "----------\n",
            "Test_r2 0.7901502902467288\n",
            "--------------------\n",
            "\n",
            "\n",
            "xg\n",
            "Train_r2 0.787714244631107\n",
            "----------\n",
            "Test_r2 0.7688327125907259\n",
            "--------------------\n",
            "\n",
            "\n"
          ]
        }
      ]
    },
    {
      "cell_type": "markdown",
      "source": [
        "best model is XGregressor"
      ],
      "metadata": {
        "id": "FJWds6cHsWY_"
      }
    },
    {
      "cell_type": "code",
      "source": [
        "steps = list()\n",
        "steps.append((\"Encoder\" , Encoder))\n",
        "steps.append((\"Scaler\" , RobustScaler()))\n",
        "steps.append((\"xg\" , XGBRegressor()))\n",
        "pipeline = Pipeline(steps = steps)\n",
        "kfold = KFold(n_splits=5, shuffle=True, random_state=0)\n",
        "scores = cross_validate(pipeline , X , y , scoring=\"r2\"  ,cv = 5 , return_train_score=True , return_estimator=True)"
      ],
      "metadata": {
        "id": "MNZUy7x_sYlv"
      },
      "execution_count": 30,
      "outputs": []
    },
    {
      "cell_type": "code",
      "source": [
        "scores[\"estimator\"][0][\"xg\"].get_params()"
      ],
      "metadata": {
        "colab": {
          "base_uri": "https://localhost:8080/"
        },
        "id": "iELGiN3FsnJB",
        "outputId": "e3d96c54-7870-4f3b-e09d-92474be26edb"
      },
      "execution_count": 31,
      "outputs": [
        {
          "output_type": "execute_result",
          "data": {
            "text/plain": [
              "{'objective': 'reg:squarederror',\n",
              " 'base_score': None,\n",
              " 'booster': None,\n",
              " 'callbacks': None,\n",
              " 'colsample_bylevel': None,\n",
              " 'colsample_bynode': None,\n",
              " 'colsample_bytree': None,\n",
              " 'device': None,\n",
              " 'early_stopping_rounds': None,\n",
              " 'enable_categorical': False,\n",
              " 'eval_metric': None,\n",
              " 'feature_types': None,\n",
              " 'gamma': None,\n",
              " 'grow_policy': None,\n",
              " 'importance_type': None,\n",
              " 'interaction_constraints': None,\n",
              " 'learning_rate': None,\n",
              " 'max_bin': None,\n",
              " 'max_cat_threshold': None,\n",
              " 'max_cat_to_onehot': None,\n",
              " 'max_delta_step': None,\n",
              " 'max_depth': None,\n",
              " 'max_leaves': None,\n",
              " 'min_child_weight': None,\n",
              " 'missing': nan,\n",
              " 'monotone_constraints': None,\n",
              " 'multi_strategy': None,\n",
              " 'n_estimators': None,\n",
              " 'n_jobs': None,\n",
              " 'num_parallel_tree': None,\n",
              " 'random_state': None,\n",
              " 'reg_alpha': None,\n",
              " 'reg_lambda': None,\n",
              " 'sampling_method': None,\n",
              " 'scale_pos_weight': None,\n",
              " 'subsample': None,\n",
              " 'tree_method': None,\n",
              " 'validate_parameters': None,\n",
              " 'verbosity': None}"
            ]
          },
          "metadata": {},
          "execution_count": 31
        }
      ]
    },
    {
      "cell_type": "code",
      "source": [
        "param_grid = {\n",
        "    \"xg__learning_rate\": [0.2],\n",
        "    \"xg__max_depth\": [10],\n",
        "    \"xg__n_estimators\": [240],\n",
        "    \"xg__reg_lambda\" : [4]\n",
        "\n",
        "}\n",
        "# best parameters are 0.2 10 240 4 with train & test 0.8666 0.8020"
      ],
      "metadata": {
        "id": "E1YtCN3ks_Np"
      },
      "execution_count": 32,
      "outputs": []
    },
    {
      "cell_type": "code",
      "source": [
        "steps = []\n",
        "steps.append((\"Encoder\" , Encoder))\n",
        "steps.append((\"Scaler\" , RobustScaler()))\n",
        "steps.append((\"xg\" , XGBRegressor()))\n",
        "pipeline = Pipeline(steps=steps)\n",
        "kfold = KFold(n_splits=5, shuffle=True, random_state=0)\n",
        "grid_search = GridSearchCV(estimator=pipeline , param_grid=param_grid , cv =kfold ,scoring=\"r2\" , return_train_score=True , n_jobs = -1)\n",
        "grid_search.fit(X,y)\n"
      ],
      "metadata": {
        "colab": {
          "base_uri": "https://localhost:8080/",
          "height": 257
        },
        "id": "g-og94sYtEj1",
        "outputId": "c8fcca81-a209-4685-c775-fb98e7a05456"
      },
      "execution_count": 33,
      "outputs": [
        {
          "output_type": "execute_result",
          "data": {
            "text/plain": [
              "GridSearchCV(cv=KFold(n_splits=5, random_state=0, shuffle=True),\n",
              "             estimator=Pipeline(steps=[('Encoder',\n",
              "                                        ColumnTransformer(remainder='passthrough',\n",
              "                                                          transformers=[('BE',\n",
              "                                                                         BinaryEncoder(),\n",
              "                                                                         ['seller',\n",
              "                                                                          'offerType',\n",
              "                                                                          'gearbox',\n",
              "                                                                          'notRepairedDamage']),\n",
              "                                                                        ('TE',\n",
              "                                                                         TargetEncoder(),\n",
              "                                                                         ['vehicleType',\n",
              "                                                                          'fuelType',\n",
              "                                                                          'model',\n",
              "                                                                          'brand'])])),\n",
              "                                       ('Scaler', RobustScaler()),\n",
              "                                       ('xg',\n",
              "                                        XGBRegressor(base_...\n",
              "                                                     max_delta_step=None,\n",
              "                                                     max_depth=None,\n",
              "                                                     max_leaves=None,\n",
              "                                                     min_child_weight=None,\n",
              "                                                     missing=nan,\n",
              "                                                     monotone_constraints=None,\n",
              "                                                     multi_strategy=None,\n",
              "                                                     n_estimators=None,\n",
              "                                                     n_jobs=None,\n",
              "                                                     num_parallel_tree=None,\n",
              "                                                     random_state=None, ...))]),\n",
              "             n_jobs=-1,\n",
              "             param_grid={'xg__learning_rate': [0.2], 'xg__max_depth': [10],\n",
              "                         'xg__n_estimators': [240], 'xg__reg_lambda': [3]},\n",
              "             return_train_score=True, scoring='r2')"
            ],
            "text/html": [
              "<style>#sk-container-id-1 {color: black;background-color: white;}#sk-container-id-1 pre{padding: 0;}#sk-container-id-1 div.sk-toggleable {background-color: white;}#sk-container-id-1 label.sk-toggleable__label {cursor: pointer;display: block;width: 100%;margin-bottom: 0;padding: 0.3em;box-sizing: border-box;text-align: center;}#sk-container-id-1 label.sk-toggleable__label-arrow:before {content: \"▸\";float: left;margin-right: 0.25em;color: #696969;}#sk-container-id-1 label.sk-toggleable__label-arrow:hover:before {color: black;}#sk-container-id-1 div.sk-estimator:hover label.sk-toggleable__label-arrow:before {color: black;}#sk-container-id-1 div.sk-toggleable__content {max-height: 0;max-width: 0;overflow: hidden;text-align: left;background-color: #f0f8ff;}#sk-container-id-1 div.sk-toggleable__content pre {margin: 0.2em;color: black;border-radius: 0.25em;background-color: #f0f8ff;}#sk-container-id-1 input.sk-toggleable__control:checked~div.sk-toggleable__content {max-height: 200px;max-width: 100%;overflow: auto;}#sk-container-id-1 input.sk-toggleable__control:checked~label.sk-toggleable__label-arrow:before {content: \"▾\";}#sk-container-id-1 div.sk-estimator input.sk-toggleable__control:checked~label.sk-toggleable__label {background-color: #d4ebff;}#sk-container-id-1 div.sk-label input.sk-toggleable__control:checked~label.sk-toggleable__label {background-color: #d4ebff;}#sk-container-id-1 input.sk-hidden--visually {border: 0;clip: rect(1px 1px 1px 1px);clip: rect(1px, 1px, 1px, 1px);height: 1px;margin: -1px;overflow: hidden;padding: 0;position: absolute;width: 1px;}#sk-container-id-1 div.sk-estimator {font-family: monospace;background-color: #f0f8ff;border: 1px dotted black;border-radius: 0.25em;box-sizing: border-box;margin-bottom: 0.5em;}#sk-container-id-1 div.sk-estimator:hover {background-color: #d4ebff;}#sk-container-id-1 div.sk-parallel-item::after {content: \"\";width: 100%;border-bottom: 1px solid gray;flex-grow: 1;}#sk-container-id-1 div.sk-label:hover label.sk-toggleable__label {background-color: #d4ebff;}#sk-container-id-1 div.sk-serial::before {content: \"\";position: absolute;border-left: 1px solid gray;box-sizing: border-box;top: 0;bottom: 0;left: 50%;z-index: 0;}#sk-container-id-1 div.sk-serial {display: flex;flex-direction: column;align-items: center;background-color: white;padding-right: 0.2em;padding-left: 0.2em;position: relative;}#sk-container-id-1 div.sk-item {position: relative;z-index: 1;}#sk-container-id-1 div.sk-parallel {display: flex;align-items: stretch;justify-content: center;background-color: white;position: relative;}#sk-container-id-1 div.sk-item::before, #sk-container-id-1 div.sk-parallel-item::before {content: \"\";position: absolute;border-left: 1px solid gray;box-sizing: border-box;top: 0;bottom: 0;left: 50%;z-index: -1;}#sk-container-id-1 div.sk-parallel-item {display: flex;flex-direction: column;z-index: 1;position: relative;background-color: white;}#sk-container-id-1 div.sk-parallel-item:first-child::after {align-self: flex-end;width: 50%;}#sk-container-id-1 div.sk-parallel-item:last-child::after {align-self: flex-start;width: 50%;}#sk-container-id-1 div.sk-parallel-item:only-child::after {width: 0;}#sk-container-id-1 div.sk-dashed-wrapped {border: 1px dashed gray;margin: 0 0.4em 0.5em 0.4em;box-sizing: border-box;padding-bottom: 0.4em;background-color: white;}#sk-container-id-1 div.sk-label label {font-family: monospace;font-weight: bold;display: inline-block;line-height: 1.2em;}#sk-container-id-1 div.sk-label-container {text-align: center;}#sk-container-id-1 div.sk-container {/* jupyter's `normalize.less` sets `[hidden] { display: none; }` but bootstrap.min.css set `[hidden] { display: none !important; }` so we also need the `!important` here to be able to override the default hidden behavior on the sphinx rendered scikit-learn.org. See: https://github.com/scikit-learn/scikit-learn/issues/21755 */display: inline-block !important;position: relative;}#sk-container-id-1 div.sk-text-repr-fallback {display: none;}</style><div id=\"sk-container-id-1\" class=\"sk-top-container\"><div class=\"sk-text-repr-fallback\"><pre>GridSearchCV(cv=KFold(n_splits=5, random_state=0, shuffle=True),\n",
              "             estimator=Pipeline(steps=[(&#x27;Encoder&#x27;,\n",
              "                                        ColumnTransformer(remainder=&#x27;passthrough&#x27;,\n",
              "                                                          transformers=[(&#x27;BE&#x27;,\n",
              "                                                                         BinaryEncoder(),\n",
              "                                                                         [&#x27;seller&#x27;,\n",
              "                                                                          &#x27;offerType&#x27;,\n",
              "                                                                          &#x27;gearbox&#x27;,\n",
              "                                                                          &#x27;notRepairedDamage&#x27;]),\n",
              "                                                                        (&#x27;TE&#x27;,\n",
              "                                                                         TargetEncoder(),\n",
              "                                                                         [&#x27;vehicleType&#x27;,\n",
              "                                                                          &#x27;fuelType&#x27;,\n",
              "                                                                          &#x27;model&#x27;,\n",
              "                                                                          &#x27;brand&#x27;])])),\n",
              "                                       (&#x27;Scaler&#x27;, RobustScaler()),\n",
              "                                       (&#x27;xg&#x27;,\n",
              "                                        XGBRegressor(base_...\n",
              "                                                     max_delta_step=None,\n",
              "                                                     max_depth=None,\n",
              "                                                     max_leaves=None,\n",
              "                                                     min_child_weight=None,\n",
              "                                                     missing=nan,\n",
              "                                                     monotone_constraints=None,\n",
              "                                                     multi_strategy=None,\n",
              "                                                     n_estimators=None,\n",
              "                                                     n_jobs=None,\n",
              "                                                     num_parallel_tree=None,\n",
              "                                                     random_state=None, ...))]),\n",
              "             n_jobs=-1,\n",
              "             param_grid={&#x27;xg__learning_rate&#x27;: [0.2], &#x27;xg__max_depth&#x27;: [10],\n",
              "                         &#x27;xg__n_estimators&#x27;: [240], &#x27;xg__reg_lambda&#x27;: [3]},\n",
              "             return_train_score=True, scoring=&#x27;r2&#x27;)</pre><b>In a Jupyter environment, please rerun this cell to show the HTML representation or trust the notebook. <br />On GitHub, the HTML representation is unable to render, please try loading this page with nbviewer.org.</b></div><div class=\"sk-container\" hidden><div class=\"sk-item sk-dashed-wrapped\"><div class=\"sk-label-container\"><div class=\"sk-label sk-toggleable\"><input class=\"sk-toggleable__control sk-hidden--visually\" id=\"sk-estimator-id-1\" type=\"checkbox\" ><label for=\"sk-estimator-id-1\" class=\"sk-toggleable__label sk-toggleable__label-arrow\">GridSearchCV</label><div class=\"sk-toggleable__content\"><pre>GridSearchCV(cv=KFold(n_splits=5, random_state=0, shuffle=True),\n",
              "             estimator=Pipeline(steps=[(&#x27;Encoder&#x27;,\n",
              "                                        ColumnTransformer(remainder=&#x27;passthrough&#x27;,\n",
              "                                                          transformers=[(&#x27;BE&#x27;,\n",
              "                                                                         BinaryEncoder(),\n",
              "                                                                         [&#x27;seller&#x27;,\n",
              "                                                                          &#x27;offerType&#x27;,\n",
              "                                                                          &#x27;gearbox&#x27;,\n",
              "                                                                          &#x27;notRepairedDamage&#x27;]),\n",
              "                                                                        (&#x27;TE&#x27;,\n",
              "                                                                         TargetEncoder(),\n",
              "                                                                         [&#x27;vehicleType&#x27;,\n",
              "                                                                          &#x27;fuelType&#x27;,\n",
              "                                                                          &#x27;model&#x27;,\n",
              "                                                                          &#x27;brand&#x27;])])),\n",
              "                                       (&#x27;Scaler&#x27;, RobustScaler()),\n",
              "                                       (&#x27;xg&#x27;,\n",
              "                                        XGBRegressor(base_...\n",
              "                                                     max_delta_step=None,\n",
              "                                                     max_depth=None,\n",
              "                                                     max_leaves=None,\n",
              "                                                     min_child_weight=None,\n",
              "                                                     missing=nan,\n",
              "                                                     monotone_constraints=None,\n",
              "                                                     multi_strategy=None,\n",
              "                                                     n_estimators=None,\n",
              "                                                     n_jobs=None,\n",
              "                                                     num_parallel_tree=None,\n",
              "                                                     random_state=None, ...))]),\n",
              "             n_jobs=-1,\n",
              "             param_grid={&#x27;xg__learning_rate&#x27;: [0.2], &#x27;xg__max_depth&#x27;: [10],\n",
              "                         &#x27;xg__n_estimators&#x27;: [240], &#x27;xg__reg_lambda&#x27;: [3]},\n",
              "             return_train_score=True, scoring=&#x27;r2&#x27;)</pre></div></div></div><div class=\"sk-parallel\"><div class=\"sk-parallel-item\"><div class=\"sk-item\"><div class=\"sk-label-container\"><div class=\"sk-label sk-toggleable\"><input class=\"sk-toggleable__control sk-hidden--visually\" id=\"sk-estimator-id-2\" type=\"checkbox\" ><label for=\"sk-estimator-id-2\" class=\"sk-toggleable__label sk-toggleable__label-arrow\">estimator: Pipeline</label><div class=\"sk-toggleable__content\"><pre>Pipeline(steps=[(&#x27;Encoder&#x27;,\n",
              "                 ColumnTransformer(remainder=&#x27;passthrough&#x27;,\n",
              "                                   transformers=[(&#x27;BE&#x27;, BinaryEncoder(),\n",
              "                                                  [&#x27;seller&#x27;, &#x27;offerType&#x27;,\n",
              "                                                   &#x27;gearbox&#x27;,\n",
              "                                                   &#x27;notRepairedDamage&#x27;]),\n",
              "                                                 (&#x27;TE&#x27;, TargetEncoder(),\n",
              "                                                  [&#x27;vehicleType&#x27;, &#x27;fuelType&#x27;,\n",
              "                                                   &#x27;model&#x27;, &#x27;brand&#x27;])])),\n",
              "                (&#x27;Scaler&#x27;, RobustScaler()),\n",
              "                (&#x27;xg&#x27;,\n",
              "                 XGBRegressor(base_score=None, booster=None, callbacks=None,\n",
              "                              colsample_bylevel=None, colsample_...\n",
              "                              feature_types=None, gamma=None, grow_policy=None,\n",
              "                              importance_type=None,\n",
              "                              interaction_constraints=None, learning_rate=None,\n",
              "                              max_bin=None, max_cat_threshold=None,\n",
              "                              max_cat_to_onehot=None, max_delta_step=None,\n",
              "                              max_depth=None, max_leaves=None,\n",
              "                              min_child_weight=None, missing=nan,\n",
              "                              monotone_constraints=None, multi_strategy=None,\n",
              "                              n_estimators=None, n_jobs=None,\n",
              "                              num_parallel_tree=None, random_state=None, ...))])</pre></div></div></div><div class=\"sk-serial\"><div class=\"sk-item\"><div class=\"sk-serial\"><div class=\"sk-item sk-dashed-wrapped\"><div class=\"sk-label-container\"><div class=\"sk-label sk-toggleable\"><input class=\"sk-toggleable__control sk-hidden--visually\" id=\"sk-estimator-id-3\" type=\"checkbox\" ><label for=\"sk-estimator-id-3\" class=\"sk-toggleable__label sk-toggleable__label-arrow\">Encoder: ColumnTransformer</label><div class=\"sk-toggleable__content\"><pre>ColumnTransformer(remainder=&#x27;passthrough&#x27;,\n",
              "                  transformers=[(&#x27;BE&#x27;, BinaryEncoder(),\n",
              "                                 [&#x27;seller&#x27;, &#x27;offerType&#x27;, &#x27;gearbox&#x27;,\n",
              "                                  &#x27;notRepairedDamage&#x27;]),\n",
              "                                (&#x27;TE&#x27;, TargetEncoder(),\n",
              "                                 [&#x27;vehicleType&#x27;, &#x27;fuelType&#x27;, &#x27;model&#x27;,\n",
              "                                  &#x27;brand&#x27;])])</pre></div></div></div><div class=\"sk-parallel\"><div class=\"sk-parallel-item\"><div class=\"sk-item\"><div class=\"sk-label-container\"><div class=\"sk-label sk-toggleable\"><input class=\"sk-toggleable__control sk-hidden--visually\" id=\"sk-estimator-id-4\" type=\"checkbox\" ><label for=\"sk-estimator-id-4\" class=\"sk-toggleable__label sk-toggleable__label-arrow\">BE</label><div class=\"sk-toggleable__content\"><pre>[&#x27;seller&#x27;, &#x27;offerType&#x27;, &#x27;gearbox&#x27;, &#x27;notRepairedDamage&#x27;]</pre></div></div></div><div class=\"sk-serial\"><div class=\"sk-item\"><div class=\"sk-estimator sk-toggleable\"><input class=\"sk-toggleable__control sk-hidden--visually\" id=\"sk-estimator-id-5\" type=\"checkbox\" ><label for=\"sk-estimator-id-5\" class=\"sk-toggleable__label sk-toggleable__label-arrow\">BinaryEncoder</label><div class=\"sk-toggleable__content\"><pre>BinaryEncoder()</pre></div></div></div></div></div></div><div class=\"sk-parallel-item\"><div class=\"sk-item\"><div class=\"sk-label-container\"><div class=\"sk-label sk-toggleable\"><input class=\"sk-toggleable__control sk-hidden--visually\" id=\"sk-estimator-id-6\" type=\"checkbox\" ><label for=\"sk-estimator-id-6\" class=\"sk-toggleable__label sk-toggleable__label-arrow\">TE</label><div class=\"sk-toggleable__content\"><pre>[&#x27;vehicleType&#x27;, &#x27;fuelType&#x27;, &#x27;model&#x27;, &#x27;brand&#x27;]</pre></div></div></div><div class=\"sk-serial\"><div class=\"sk-item\"><div class=\"sk-estimator sk-toggleable\"><input class=\"sk-toggleable__control sk-hidden--visually\" id=\"sk-estimator-id-7\" type=\"checkbox\" ><label for=\"sk-estimator-id-7\" class=\"sk-toggleable__label sk-toggleable__label-arrow\">TargetEncoder</label><div class=\"sk-toggleable__content\"><pre>TargetEncoder()</pre></div></div></div></div></div></div><div class=\"sk-parallel-item\"><div class=\"sk-item\"><div class=\"sk-label-container\"><div class=\"sk-label sk-toggleable\"><input class=\"sk-toggleable__control sk-hidden--visually\" id=\"sk-estimator-id-8\" type=\"checkbox\" ><label for=\"sk-estimator-id-8\" class=\"sk-toggleable__label sk-toggleable__label-arrow\">remainder</label><div class=\"sk-toggleable__content\"><pre></pre></div></div></div><div class=\"sk-serial\"><div class=\"sk-item\"><div class=\"sk-estimator sk-toggleable\"><input class=\"sk-toggleable__control sk-hidden--visually\" id=\"sk-estimator-id-9\" type=\"checkbox\" ><label for=\"sk-estimator-id-9\" class=\"sk-toggleable__label sk-toggleable__label-arrow\">passthrough</label><div class=\"sk-toggleable__content\"><pre>passthrough</pre></div></div></div></div></div></div></div></div><div class=\"sk-item\"><div class=\"sk-estimator sk-toggleable\"><input class=\"sk-toggleable__control sk-hidden--visually\" id=\"sk-estimator-id-10\" type=\"checkbox\" ><label for=\"sk-estimator-id-10\" class=\"sk-toggleable__label sk-toggleable__label-arrow\">RobustScaler</label><div class=\"sk-toggleable__content\"><pre>RobustScaler()</pre></div></div></div><div class=\"sk-item\"><div class=\"sk-estimator sk-toggleable\"><input class=\"sk-toggleable__control sk-hidden--visually\" id=\"sk-estimator-id-11\" type=\"checkbox\" ><label for=\"sk-estimator-id-11\" class=\"sk-toggleable__label sk-toggleable__label-arrow\">XGBRegressor</label><div class=\"sk-toggleable__content\"><pre>XGBRegressor(base_score=None, booster=None, callbacks=None,\n",
              "             colsample_bylevel=None, colsample_bynode=None,\n",
              "             colsample_bytree=None, device=None, early_stopping_rounds=None,\n",
              "             enable_categorical=False, eval_metric=None, feature_types=None,\n",
              "             gamma=None, grow_policy=None, importance_type=None,\n",
              "             interaction_constraints=None, learning_rate=None, max_bin=None,\n",
              "             max_cat_threshold=None, max_cat_to_onehot=None,\n",
              "             max_delta_step=None, max_depth=None, max_leaves=None,\n",
              "             min_child_weight=None, missing=nan, monotone_constraints=None,\n",
              "             multi_strategy=None, n_estimators=None, n_jobs=None,\n",
              "             num_parallel_tree=None, random_state=None, ...)</pre></div></div></div></div></div></div></div></div></div></div></div></div>"
            ]
          },
          "metadata": {},
          "execution_count": 33
        }
      ]
    },
    {
      "cell_type": "code",
      "source": [
        "grid_search.best_params_"
      ],
      "metadata": {
        "colab": {
          "base_uri": "https://localhost:8080/"
        },
        "id": "jVcegEejOWIM",
        "outputId": "c912b1b2-66f8-40cd-b13c-2e3f6089558d"
      },
      "execution_count": 34,
      "outputs": [
        {
          "output_type": "execute_result",
          "data": {
            "text/plain": [
              "{'xg__learning_rate': 0.2,\n",
              " 'xg__max_depth': 10,\n",
              " 'xg__n_estimators': 240,\n",
              " 'xg__reg_lambda': 3}"
            ]
          },
          "metadata": {},
          "execution_count": 34
        }
      ]
    },
    {
      "cell_type": "code",
      "source": [
        "grid_search.cv_results_[\"mean_train_score\"].mean()"
      ],
      "metadata": {
        "colab": {
          "base_uri": "https://localhost:8080/"
        },
        "id": "OlwHh1kEtQRU",
        "outputId": "eeb89564-55c5-49fc-f22b-e88f90175855"
      },
      "execution_count": 35,
      "outputs": [
        {
          "output_type": "execute_result",
          "data": {
            "text/plain": [
              "0.8643942701116154"
            ]
          },
          "metadata": {},
          "execution_count": 35
        }
      ]
    },
    {
      "cell_type": "code",
      "source": [
        "grid_search.cv_results_[\"mean_test_score\"].mean()"
      ],
      "metadata": {
        "colab": {
          "base_uri": "https://localhost:8080/"
        },
        "id": "E0mWByr1tQxX",
        "outputId": "d973ea9a-0203-4ee6-a9a8-8c1f0e02d9c1"
      },
      "execution_count": 36,
      "outputs": [
        {
          "output_type": "execute_result",
          "data": {
            "text/plain": [
              "0.8015394206372184"
            ]
          },
          "metadata": {},
          "execution_count": 36
        }
      ]
    },
    {
      "cell_type": "code",
      "source": [],
      "metadata": {
        "id": "PsbKOKWJ3acZ"
      },
      "execution_count": 36,
      "outputs": []
    }
  ],
  "metadata": {
    "kernelspec": {
      "display_name": "ml-env",
      "language": "python",
      "name": "python3"
    },
    "language_info": {
      "codemirror_mode": {
        "name": "ipython",
        "version": 3
      },
      "file_extension": ".py",
      "mimetype": "text/x-python",
      "name": "python",
      "nbconvert_exporter": "python",
      "pygments_lexer": "ipython3",
      "version": "3.11.3"
    },
    "colab": {
      "provenance": []
    }
  },
  "nbformat": 4,
  "nbformat_minor": 0
}