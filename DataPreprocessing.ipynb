{
  "cells": [
    {
      "cell_type": "code",
      "source": [
        "!pip install category_encoders &> /dev/null"
      ],
      "metadata": {
        "id": "cKr93aP6Q0wp"
      },
      "execution_count": 1,
      "outputs": []
    },
    {
      "cell_type": "code",
      "execution_count": 2,
      "metadata": {
        "id": "W5E17SryPauV"
      },
      "outputs": [],
      "source": [
        "# Importing libraries\n",
        "# Numpy for array operations and also to do calculations\n",
        "import numpy as np\n",
        "# Pandas for load dataset and manipulation of tabular data\n",
        "import pandas as pd\n",
        "# For plotting\n",
        "import seaborn as sns\n",
        "import plotly.express as px\n",
        "import plotly.figure_factory as ff\n",
        "import matplotlib.pyplot as plt\n",
        "%matplotlib inline\n",
        "\n",
        "#from matplotlib import rcParams\n",
        "#import matplotlib.gridspec as gridspec\n",
        "#from IPython.core.pylabtools import figsize\n",
        "#from datasist.structdata import detect_outliers\n",
        "\n",
        "# For importing dataset from url\n",
        "import urllib.request\n",
        "# To interact with the underlying Operating System\n",
        "import os\n",
        "# For numerical computation and ML modeling phase\n",
        "#import tensorflow as tf\n",
        "# to manipulate date and time\n",
        "#from datetime import datetime, timedelta\n",
        "# Generate words cloud\n",
        "#from wordcloud import WordCloud\n",
        "# Import Images to notebook\n",
        "#from IPython.display import Image\n",
        "# For statistical analysis\n",
        "from scipy import stats\n",
        "# Set warnings to be ignored\n",
        "import warnings\n",
        "warnings.filterwarnings(\"ignore\")"
      ]
    },
    {
      "cell_type": "code",
      "source": [
        "\n",
        "from sklearn.model_selection import train_test_split\n",
        "from sklearn.compose import ColumnTransformer\n",
        "from sklearn.preprocessing import OneHotEncoder\n",
        "from sklearn.preprocessing import RobustScaler\n",
        "from category_encoders import OrdinalEncoder\n",
        "from category_encoders import BinaryEncoder\n",
        "from sklearn.model_selection import cross_validate\n",
        "from sklearn.neural_network import MLPRegressor\n",
        "from sklearn.metrics import mean_squared_error\n",
        "from sklearn.pipeline import Pipeline\n",
        "from sklearn import set_config\n",
        "from sklearn.metrics import r2_score,mean_absolute_error\n",
        "\n",
        "from sklearn.ensemble import GradientBoostingRegressor\n",
        "from sklearn.ensemble import RandomForestRegressor\n",
        "from sklearn.linear_model import LinearRegression\n",
        "from sklearn.neighbors import KNeighborsRegressor\n",
        "from sklearn.tree import DecisionTreeRegressor\n",
        "from sklearn.svm import SVR"
      ],
      "metadata": {
        "id": "QT_wIK0CQvtw"
      },
      "execution_count": 3,
      "outputs": []
    },
    {
      "cell_type": "code",
      "source": [
        "def remove_outliers(df, columns, iqr_coefficient=1.5):\n",
        "    Q1 = df[columns].quantile(0.25)\n",
        "    Q3 = df[columns].quantile(0.75)\n",
        "    IQR = Q3 - Q1\n",
        "    lower_fence = Q1 - iqr_coefficient * IQR\n",
        "    upper_fence = Q3 + iqr_coefficient * IQR\n",
        "    return df[~((df[columns] < lower_fence) | (df[columns] > upper_fence)).any(axis=1)]"
      ],
      "metadata": {
        "id": "IM3B1ubHcXXp"
      },
      "execution_count": 4,
      "outputs": []
    },
    {
      "cell_type": "code",
      "execution_count": 5,
      "metadata": {
        "id": "kF5JuCVWPauX"
      },
      "outputs": [],
      "source": [
        "df = df = pd.read_csv('cleaned_autos.csv')"
      ]
    },
    {
      "cell_type": "code",
      "execution_count": 6,
      "metadata": {
        "colab": {
          "base_uri": "https://localhost:8080/",
          "height": 206
        },
        "id": "wGwxOVFkPauY",
        "outputId": "c4afa0d8-bea1-4e8a-c80b-ad2468fd7f71"
      },
      "outputs": [
        {
          "output_type": "execute_result",
          "data": {
            "text/plain": [
              "   seller offerType  price vehicleType  yearOfRegistration  gearbox  powerPS  \\\n",
              "0  privat   Angebot   1500  kleinwagen                2001  manuell       75   \n",
              "1  privat   Angebot   3600  kleinwagen                2008  manuell       69   \n",
              "2  privat   Angebot   2200      cabrio                2004  manuell      109   \n",
              "3  privat   Angebot   2000   limousine                2004  manuell      105   \n",
              "4  privat   Angebot   2799       kombi                2005  manuell      140   \n",
              "\n",
              "     model  kilometer  monthOfRegistration fuelType       brand  \\\n",
              "0     golf     150000                    6   benzin  volkswagen   \n",
              "1    fabia      90000                    7   diesel       skoda   \n",
              "2  2_reihe     150000                    8   benzin     peugeot   \n",
              "3  3_reihe     150000                   12   benzin       mazda   \n",
              "4   passat     150000                   12   diesel  volkswagen   \n",
              "\n",
              "  notRepairedDamage  \n",
              "0              nein  \n",
              "1              nein  \n",
              "2              nein  \n",
              "3              nein  \n",
              "4                ja  "
            ],
            "text/html": [
              "\n",
              "  <div id=\"df-5c452ad2-56a1-426c-aaae-b0819e55faa9\" class=\"colab-df-container\">\n",
              "    <div>\n",
              "<style scoped>\n",
              "    .dataframe tbody tr th:only-of-type {\n",
              "        vertical-align: middle;\n",
              "    }\n",
              "\n",
              "    .dataframe tbody tr th {\n",
              "        vertical-align: top;\n",
              "    }\n",
              "\n",
              "    .dataframe thead th {\n",
              "        text-align: right;\n",
              "    }\n",
              "</style>\n",
              "<table border=\"1\" class=\"dataframe\">\n",
              "  <thead>\n",
              "    <tr style=\"text-align: right;\">\n",
              "      <th></th>\n",
              "      <th>seller</th>\n",
              "      <th>offerType</th>\n",
              "      <th>price</th>\n",
              "      <th>vehicleType</th>\n",
              "      <th>yearOfRegistration</th>\n",
              "      <th>gearbox</th>\n",
              "      <th>powerPS</th>\n",
              "      <th>model</th>\n",
              "      <th>kilometer</th>\n",
              "      <th>monthOfRegistration</th>\n",
              "      <th>fuelType</th>\n",
              "      <th>brand</th>\n",
              "      <th>notRepairedDamage</th>\n",
              "    </tr>\n",
              "  </thead>\n",
              "  <tbody>\n",
              "    <tr>\n",
              "      <th>0</th>\n",
              "      <td>privat</td>\n",
              "      <td>Angebot</td>\n",
              "      <td>1500</td>\n",
              "      <td>kleinwagen</td>\n",
              "      <td>2001</td>\n",
              "      <td>manuell</td>\n",
              "      <td>75</td>\n",
              "      <td>golf</td>\n",
              "      <td>150000</td>\n",
              "      <td>6</td>\n",
              "      <td>benzin</td>\n",
              "      <td>volkswagen</td>\n",
              "      <td>nein</td>\n",
              "    </tr>\n",
              "    <tr>\n",
              "      <th>1</th>\n",
              "      <td>privat</td>\n",
              "      <td>Angebot</td>\n",
              "      <td>3600</td>\n",
              "      <td>kleinwagen</td>\n",
              "      <td>2008</td>\n",
              "      <td>manuell</td>\n",
              "      <td>69</td>\n",
              "      <td>fabia</td>\n",
              "      <td>90000</td>\n",
              "      <td>7</td>\n",
              "      <td>diesel</td>\n",
              "      <td>skoda</td>\n",
              "      <td>nein</td>\n",
              "    </tr>\n",
              "    <tr>\n",
              "      <th>2</th>\n",
              "      <td>privat</td>\n",
              "      <td>Angebot</td>\n",
              "      <td>2200</td>\n",
              "      <td>cabrio</td>\n",
              "      <td>2004</td>\n",
              "      <td>manuell</td>\n",
              "      <td>109</td>\n",
              "      <td>2_reihe</td>\n",
              "      <td>150000</td>\n",
              "      <td>8</td>\n",
              "      <td>benzin</td>\n",
              "      <td>peugeot</td>\n",
              "      <td>nein</td>\n",
              "    </tr>\n",
              "    <tr>\n",
              "      <th>3</th>\n",
              "      <td>privat</td>\n",
              "      <td>Angebot</td>\n",
              "      <td>2000</td>\n",
              "      <td>limousine</td>\n",
              "      <td>2004</td>\n",
              "      <td>manuell</td>\n",
              "      <td>105</td>\n",
              "      <td>3_reihe</td>\n",
              "      <td>150000</td>\n",
              "      <td>12</td>\n",
              "      <td>benzin</td>\n",
              "      <td>mazda</td>\n",
              "      <td>nein</td>\n",
              "    </tr>\n",
              "    <tr>\n",
              "      <th>4</th>\n",
              "      <td>privat</td>\n",
              "      <td>Angebot</td>\n",
              "      <td>2799</td>\n",
              "      <td>kombi</td>\n",
              "      <td>2005</td>\n",
              "      <td>manuell</td>\n",
              "      <td>140</td>\n",
              "      <td>passat</td>\n",
              "      <td>150000</td>\n",
              "      <td>12</td>\n",
              "      <td>diesel</td>\n",
              "      <td>volkswagen</td>\n",
              "      <td>ja</td>\n",
              "    </tr>\n",
              "  </tbody>\n",
              "</table>\n",
              "</div>\n",
              "    <div class=\"colab-df-buttons\">\n",
              "\n",
              "  <div class=\"colab-df-container\">\n",
              "    <button class=\"colab-df-convert\" onclick=\"convertToInteractive('df-5c452ad2-56a1-426c-aaae-b0819e55faa9')\"\n",
              "            title=\"Convert this dataframe to an interactive table.\"\n",
              "            style=\"display:none;\">\n",
              "\n",
              "  <svg xmlns=\"http://www.w3.org/2000/svg\" height=\"24px\" viewBox=\"0 -960 960 960\">\n",
              "    <path d=\"M120-120v-720h720v720H120Zm60-500h600v-160H180v160Zm220 220h160v-160H400v160Zm0 220h160v-160H400v160ZM180-400h160v-160H180v160Zm440 0h160v-160H620v160ZM180-180h160v-160H180v160Zm440 0h160v-160H620v160Z\"/>\n",
              "  </svg>\n",
              "    </button>\n",
              "\n",
              "  <style>\n",
              "    .colab-df-container {\n",
              "      display:flex;\n",
              "      gap: 12px;\n",
              "    }\n",
              "\n",
              "    .colab-df-convert {\n",
              "      background-color: #E8F0FE;\n",
              "      border: none;\n",
              "      border-radius: 50%;\n",
              "      cursor: pointer;\n",
              "      display: none;\n",
              "      fill: #1967D2;\n",
              "      height: 32px;\n",
              "      padding: 0 0 0 0;\n",
              "      width: 32px;\n",
              "    }\n",
              "\n",
              "    .colab-df-convert:hover {\n",
              "      background-color: #E2EBFA;\n",
              "      box-shadow: 0px 1px 2px rgba(60, 64, 67, 0.3), 0px 1px 3px 1px rgba(60, 64, 67, 0.15);\n",
              "      fill: #174EA6;\n",
              "    }\n",
              "\n",
              "    .colab-df-buttons div {\n",
              "      margin-bottom: 4px;\n",
              "    }\n",
              "\n",
              "    [theme=dark] .colab-df-convert {\n",
              "      background-color: #3B4455;\n",
              "      fill: #D2E3FC;\n",
              "    }\n",
              "\n",
              "    [theme=dark] .colab-df-convert:hover {\n",
              "      background-color: #434B5C;\n",
              "      box-shadow: 0px 1px 3px 1px rgba(0, 0, 0, 0.15);\n",
              "      filter: drop-shadow(0px 1px 2px rgba(0, 0, 0, 0.3));\n",
              "      fill: #FFFFFF;\n",
              "    }\n",
              "  </style>\n",
              "\n",
              "    <script>\n",
              "      const buttonEl =\n",
              "        document.querySelector('#df-5c452ad2-56a1-426c-aaae-b0819e55faa9 button.colab-df-convert');\n",
              "      buttonEl.style.display =\n",
              "        google.colab.kernel.accessAllowed ? 'block' : 'none';\n",
              "\n",
              "      async function convertToInteractive(key) {\n",
              "        const element = document.querySelector('#df-5c452ad2-56a1-426c-aaae-b0819e55faa9');\n",
              "        const dataTable =\n",
              "          await google.colab.kernel.invokeFunction('convertToInteractive',\n",
              "                                                    [key], {});\n",
              "        if (!dataTable) return;\n",
              "\n",
              "        const docLinkHtml = 'Like what you see? Visit the ' +\n",
              "          '<a target=\"_blank\" href=https://colab.research.google.com/notebooks/data_table.ipynb>data table notebook</a>'\n",
              "          + ' to learn more about interactive tables.';\n",
              "        element.innerHTML = '';\n",
              "        dataTable['output_type'] = 'display_data';\n",
              "        await google.colab.output.renderOutput(dataTable, element);\n",
              "        const docLink = document.createElement('div');\n",
              "        docLink.innerHTML = docLinkHtml;\n",
              "        element.appendChild(docLink);\n",
              "      }\n",
              "    </script>\n",
              "  </div>\n",
              "\n",
              "\n",
              "<div id=\"df-8ca5882b-80bf-4c08-9696-a961812d099c\">\n",
              "  <button class=\"colab-df-quickchart\" onclick=\"quickchart('df-8ca5882b-80bf-4c08-9696-a961812d099c')\"\n",
              "            title=\"Suggest charts\"\n",
              "            style=\"display:none;\">\n",
              "\n",
              "<svg xmlns=\"http://www.w3.org/2000/svg\" height=\"24px\"viewBox=\"0 0 24 24\"\n",
              "     width=\"24px\">\n",
              "    <g>\n",
              "        <path d=\"M19 3H5c-1.1 0-2 .9-2 2v14c0 1.1.9 2 2 2h14c1.1 0 2-.9 2-2V5c0-1.1-.9-2-2-2zM9 17H7v-7h2v7zm4 0h-2V7h2v10zm4 0h-2v-4h2v4z\"/>\n",
              "    </g>\n",
              "</svg>\n",
              "  </button>\n",
              "\n",
              "<style>\n",
              "  .colab-df-quickchart {\n",
              "      --bg-color: #E8F0FE;\n",
              "      --fill-color: #1967D2;\n",
              "      --hover-bg-color: #E2EBFA;\n",
              "      --hover-fill-color: #174EA6;\n",
              "      --disabled-fill-color: #AAA;\n",
              "      --disabled-bg-color: #DDD;\n",
              "  }\n",
              "\n",
              "  [theme=dark] .colab-df-quickchart {\n",
              "      --bg-color: #3B4455;\n",
              "      --fill-color: #D2E3FC;\n",
              "      --hover-bg-color: #434B5C;\n",
              "      --hover-fill-color: #FFFFFF;\n",
              "      --disabled-bg-color: #3B4455;\n",
              "      --disabled-fill-color: #666;\n",
              "  }\n",
              "\n",
              "  .colab-df-quickchart {\n",
              "    background-color: var(--bg-color);\n",
              "    border: none;\n",
              "    border-radius: 50%;\n",
              "    cursor: pointer;\n",
              "    display: none;\n",
              "    fill: var(--fill-color);\n",
              "    height: 32px;\n",
              "    padding: 0;\n",
              "    width: 32px;\n",
              "  }\n",
              "\n",
              "  .colab-df-quickchart:hover {\n",
              "    background-color: var(--hover-bg-color);\n",
              "    box-shadow: 0 1px 2px rgba(60, 64, 67, 0.3), 0 1px 3px 1px rgba(60, 64, 67, 0.15);\n",
              "    fill: var(--button-hover-fill-color);\n",
              "  }\n",
              "\n",
              "  .colab-df-quickchart-complete:disabled,\n",
              "  .colab-df-quickchart-complete:disabled:hover {\n",
              "    background-color: var(--disabled-bg-color);\n",
              "    fill: var(--disabled-fill-color);\n",
              "    box-shadow: none;\n",
              "  }\n",
              "\n",
              "  .colab-df-spinner {\n",
              "    border: 2px solid var(--fill-color);\n",
              "    border-color: transparent;\n",
              "    border-bottom-color: var(--fill-color);\n",
              "    animation:\n",
              "      spin 1s steps(1) infinite;\n",
              "  }\n",
              "\n",
              "  @keyframes spin {\n",
              "    0% {\n",
              "      border-color: transparent;\n",
              "      border-bottom-color: var(--fill-color);\n",
              "      border-left-color: var(--fill-color);\n",
              "    }\n",
              "    20% {\n",
              "      border-color: transparent;\n",
              "      border-left-color: var(--fill-color);\n",
              "      border-top-color: var(--fill-color);\n",
              "    }\n",
              "    30% {\n",
              "      border-color: transparent;\n",
              "      border-left-color: var(--fill-color);\n",
              "      border-top-color: var(--fill-color);\n",
              "      border-right-color: var(--fill-color);\n",
              "    }\n",
              "    40% {\n",
              "      border-color: transparent;\n",
              "      border-right-color: var(--fill-color);\n",
              "      border-top-color: var(--fill-color);\n",
              "    }\n",
              "    60% {\n",
              "      border-color: transparent;\n",
              "      border-right-color: var(--fill-color);\n",
              "    }\n",
              "    80% {\n",
              "      border-color: transparent;\n",
              "      border-right-color: var(--fill-color);\n",
              "      border-bottom-color: var(--fill-color);\n",
              "    }\n",
              "    90% {\n",
              "      border-color: transparent;\n",
              "      border-bottom-color: var(--fill-color);\n",
              "    }\n",
              "  }\n",
              "</style>\n",
              "\n",
              "  <script>\n",
              "    async function quickchart(key) {\n",
              "      const quickchartButtonEl =\n",
              "        document.querySelector('#' + key + ' button');\n",
              "      quickchartButtonEl.disabled = true;  // To prevent multiple clicks.\n",
              "      quickchartButtonEl.classList.add('colab-df-spinner');\n",
              "      try {\n",
              "        const charts = await google.colab.kernel.invokeFunction(\n",
              "            'suggestCharts', [key], {});\n",
              "      } catch (error) {\n",
              "        console.error('Error during call to suggestCharts:', error);\n",
              "      }\n",
              "      quickchartButtonEl.classList.remove('colab-df-spinner');\n",
              "      quickchartButtonEl.classList.add('colab-df-quickchart-complete');\n",
              "    }\n",
              "    (() => {\n",
              "      let quickchartButtonEl =\n",
              "        document.querySelector('#df-8ca5882b-80bf-4c08-9696-a961812d099c button');\n",
              "      quickchartButtonEl.style.display =\n",
              "        google.colab.kernel.accessAllowed ? 'block' : 'none';\n",
              "    })();\n",
              "  </script>\n",
              "</div>\n",
              "\n",
              "    </div>\n",
              "  </div>\n"
            ]
          },
          "metadata": {},
          "execution_count": 6
        }
      ],
      "source": [
        "df.head()"
      ]
    },
    {
      "cell_type": "code",
      "execution_count": 7,
      "metadata": {
        "colab": {
          "base_uri": "https://localhost:8080/"
        },
        "id": "KZaqEMZEPauZ",
        "outputId": "0f044bb9-710f-4178-bfbc-94a9f1ef9723"
      },
      "outputs": [
        {
          "output_type": "execute_result",
          "data": {
            "text/plain": [
              "(185575, 13)"
            ]
          },
          "metadata": {},
          "execution_count": 7
        }
      ],
      "source": [
        "df.shape"
      ]
    },
    {
      "cell_type": "code",
      "execution_count": 8,
      "metadata": {
        "colab": {
          "base_uri": "https://localhost:8080/"
        },
        "id": "a3CQ8CjLPaua",
        "outputId": "da483ce0-a4e0-4d55-d50a-e8ae56b9640d"
      },
      "outputs": [
        {
          "output_type": "stream",
          "name": "stdout",
          "text": [
            "<class 'pandas.core.frame.DataFrame'>\n",
            "RangeIndex: 185575 entries, 0 to 185574\n",
            "Data columns (total 13 columns):\n",
            " #   Column               Non-Null Count   Dtype \n",
            "---  ------               --------------   ----- \n",
            " 0   seller               185575 non-null  object\n",
            " 1   offerType            185575 non-null  object\n",
            " 2   price                185575 non-null  int64 \n",
            " 3   vehicleType          185575 non-null  object\n",
            " 4   yearOfRegistration   185575 non-null  int64 \n",
            " 5   gearbox              185575 non-null  object\n",
            " 6   powerPS              185575 non-null  int64 \n",
            " 7   model                185575 non-null  object\n",
            " 8   kilometer            185575 non-null  int64 \n",
            " 9   monthOfRegistration  185575 non-null  int64 \n",
            " 10  fuelType             185575 non-null  object\n",
            " 11  brand                185575 non-null  object\n",
            " 12  notRepairedDamage    185575 non-null  object\n",
            "dtypes: int64(5), object(8)\n",
            "memory usage: 18.4+ MB\n"
          ]
        }
      ],
      "source": [
        "df.info()"
      ]
    },
    {
      "cell_type": "code",
      "execution_count": 9,
      "metadata": {
        "colab": {
          "base_uri": "https://localhost:8080/",
          "height": 301
        },
        "id": "Aj3Id9rAPaua",
        "outputId": "3a9a5b16-77dd-4228-a700-bcfb7ef7a85b"
      },
      "outputs": [
        {
          "output_type": "execute_result",
          "data": {
            "text/plain": [
              "               price  yearOfRegistration        powerPS      kilometer  \\\n",
              "count  185575.000000       185575.000000  185575.000000  185575.000000   \n",
              "mean     6200.991243         2004.011499     127.963341  124152.876196   \n",
              "std      4795.735412            6.077993     145.953033   38625.278471   \n",
              "min      1001.000000         1923.000000       0.000000    5000.000000   \n",
              "25%      2400.000000         2001.000000      90.000000  100000.000000   \n",
              "50%      4600.000000         2005.000000     118.000000  150000.000000   \n",
              "75%      8700.000000         2008.000000     155.000000  150000.000000   \n",
              "max     21243.000000         2018.000000   20000.000000  150000.000000   \n",
              "\n",
              "       monthOfRegistration  \n",
              "count        185575.000000  \n",
              "mean              6.271071  \n",
              "std               3.432309  \n",
              "min               0.000000  \n",
              "25%               3.000000  \n",
              "50%               6.000000  \n",
              "75%               9.000000  \n",
              "max              12.000000  "
            ],
            "text/html": [
              "\n",
              "  <div id=\"df-d2ce8709-4166-47f6-854c-51baa2244af6\" class=\"colab-df-container\">\n",
              "    <div>\n",
              "<style scoped>\n",
              "    .dataframe tbody tr th:only-of-type {\n",
              "        vertical-align: middle;\n",
              "    }\n",
              "\n",
              "    .dataframe tbody tr th {\n",
              "        vertical-align: top;\n",
              "    }\n",
              "\n",
              "    .dataframe thead th {\n",
              "        text-align: right;\n",
              "    }\n",
              "</style>\n",
              "<table border=\"1\" class=\"dataframe\">\n",
              "  <thead>\n",
              "    <tr style=\"text-align: right;\">\n",
              "      <th></th>\n",
              "      <th>price</th>\n",
              "      <th>yearOfRegistration</th>\n",
              "      <th>powerPS</th>\n",
              "      <th>kilometer</th>\n",
              "      <th>monthOfRegistration</th>\n",
              "    </tr>\n",
              "  </thead>\n",
              "  <tbody>\n",
              "    <tr>\n",
              "      <th>count</th>\n",
              "      <td>185575.000000</td>\n",
              "      <td>185575.000000</td>\n",
              "      <td>185575.000000</td>\n",
              "      <td>185575.000000</td>\n",
              "      <td>185575.000000</td>\n",
              "    </tr>\n",
              "    <tr>\n",
              "      <th>mean</th>\n",
              "      <td>6200.991243</td>\n",
              "      <td>2004.011499</td>\n",
              "      <td>127.963341</td>\n",
              "      <td>124152.876196</td>\n",
              "      <td>6.271071</td>\n",
              "    </tr>\n",
              "    <tr>\n",
              "      <th>std</th>\n",
              "      <td>4795.735412</td>\n",
              "      <td>6.077993</td>\n",
              "      <td>145.953033</td>\n",
              "      <td>38625.278471</td>\n",
              "      <td>3.432309</td>\n",
              "    </tr>\n",
              "    <tr>\n",
              "      <th>min</th>\n",
              "      <td>1001.000000</td>\n",
              "      <td>1923.000000</td>\n",
              "      <td>0.000000</td>\n",
              "      <td>5000.000000</td>\n",
              "      <td>0.000000</td>\n",
              "    </tr>\n",
              "    <tr>\n",
              "      <th>25%</th>\n",
              "      <td>2400.000000</td>\n",
              "      <td>2001.000000</td>\n",
              "      <td>90.000000</td>\n",
              "      <td>100000.000000</td>\n",
              "      <td>3.000000</td>\n",
              "    </tr>\n",
              "    <tr>\n",
              "      <th>50%</th>\n",
              "      <td>4600.000000</td>\n",
              "      <td>2005.000000</td>\n",
              "      <td>118.000000</td>\n",
              "      <td>150000.000000</td>\n",
              "      <td>6.000000</td>\n",
              "    </tr>\n",
              "    <tr>\n",
              "      <th>75%</th>\n",
              "      <td>8700.000000</td>\n",
              "      <td>2008.000000</td>\n",
              "      <td>155.000000</td>\n",
              "      <td>150000.000000</td>\n",
              "      <td>9.000000</td>\n",
              "    </tr>\n",
              "    <tr>\n",
              "      <th>max</th>\n",
              "      <td>21243.000000</td>\n",
              "      <td>2018.000000</td>\n",
              "      <td>20000.000000</td>\n",
              "      <td>150000.000000</td>\n",
              "      <td>12.000000</td>\n",
              "    </tr>\n",
              "  </tbody>\n",
              "</table>\n",
              "</div>\n",
              "    <div class=\"colab-df-buttons\">\n",
              "\n",
              "  <div class=\"colab-df-container\">\n",
              "    <button class=\"colab-df-convert\" onclick=\"convertToInteractive('df-d2ce8709-4166-47f6-854c-51baa2244af6')\"\n",
              "            title=\"Convert this dataframe to an interactive table.\"\n",
              "            style=\"display:none;\">\n",
              "\n",
              "  <svg xmlns=\"http://www.w3.org/2000/svg\" height=\"24px\" viewBox=\"0 -960 960 960\">\n",
              "    <path d=\"M120-120v-720h720v720H120Zm60-500h600v-160H180v160Zm220 220h160v-160H400v160Zm0 220h160v-160H400v160ZM180-400h160v-160H180v160Zm440 0h160v-160H620v160ZM180-180h160v-160H180v160Zm440 0h160v-160H620v160Z\"/>\n",
              "  </svg>\n",
              "    </button>\n",
              "\n",
              "  <style>\n",
              "    .colab-df-container {\n",
              "      display:flex;\n",
              "      gap: 12px;\n",
              "    }\n",
              "\n",
              "    .colab-df-convert {\n",
              "      background-color: #E8F0FE;\n",
              "      border: none;\n",
              "      border-radius: 50%;\n",
              "      cursor: pointer;\n",
              "      display: none;\n",
              "      fill: #1967D2;\n",
              "      height: 32px;\n",
              "      padding: 0 0 0 0;\n",
              "      width: 32px;\n",
              "    }\n",
              "\n",
              "    .colab-df-convert:hover {\n",
              "      background-color: #E2EBFA;\n",
              "      box-shadow: 0px 1px 2px rgba(60, 64, 67, 0.3), 0px 1px 3px 1px rgba(60, 64, 67, 0.15);\n",
              "      fill: #174EA6;\n",
              "    }\n",
              "\n",
              "    .colab-df-buttons div {\n",
              "      margin-bottom: 4px;\n",
              "    }\n",
              "\n",
              "    [theme=dark] .colab-df-convert {\n",
              "      background-color: #3B4455;\n",
              "      fill: #D2E3FC;\n",
              "    }\n",
              "\n",
              "    [theme=dark] .colab-df-convert:hover {\n",
              "      background-color: #434B5C;\n",
              "      box-shadow: 0px 1px 3px 1px rgba(0, 0, 0, 0.15);\n",
              "      filter: drop-shadow(0px 1px 2px rgba(0, 0, 0, 0.3));\n",
              "      fill: #FFFFFF;\n",
              "    }\n",
              "  </style>\n",
              "\n",
              "    <script>\n",
              "      const buttonEl =\n",
              "        document.querySelector('#df-d2ce8709-4166-47f6-854c-51baa2244af6 button.colab-df-convert');\n",
              "      buttonEl.style.display =\n",
              "        google.colab.kernel.accessAllowed ? 'block' : 'none';\n",
              "\n",
              "      async function convertToInteractive(key) {\n",
              "        const element = document.querySelector('#df-d2ce8709-4166-47f6-854c-51baa2244af6');\n",
              "        const dataTable =\n",
              "          await google.colab.kernel.invokeFunction('convertToInteractive',\n",
              "                                                    [key], {});\n",
              "        if (!dataTable) return;\n",
              "\n",
              "        const docLinkHtml = 'Like what you see? Visit the ' +\n",
              "          '<a target=\"_blank\" href=https://colab.research.google.com/notebooks/data_table.ipynb>data table notebook</a>'\n",
              "          + ' to learn more about interactive tables.';\n",
              "        element.innerHTML = '';\n",
              "        dataTable['output_type'] = 'display_data';\n",
              "        await google.colab.output.renderOutput(dataTable, element);\n",
              "        const docLink = document.createElement('div');\n",
              "        docLink.innerHTML = docLinkHtml;\n",
              "        element.appendChild(docLink);\n",
              "      }\n",
              "    </script>\n",
              "  </div>\n",
              "\n",
              "\n",
              "<div id=\"df-460a061c-992e-48b0-88e9-2ce92e00bb13\">\n",
              "  <button class=\"colab-df-quickchart\" onclick=\"quickchart('df-460a061c-992e-48b0-88e9-2ce92e00bb13')\"\n",
              "            title=\"Suggest charts\"\n",
              "            style=\"display:none;\">\n",
              "\n",
              "<svg xmlns=\"http://www.w3.org/2000/svg\" height=\"24px\"viewBox=\"0 0 24 24\"\n",
              "     width=\"24px\">\n",
              "    <g>\n",
              "        <path d=\"M19 3H5c-1.1 0-2 .9-2 2v14c0 1.1.9 2 2 2h14c1.1 0 2-.9 2-2V5c0-1.1-.9-2-2-2zM9 17H7v-7h2v7zm4 0h-2V7h2v10zm4 0h-2v-4h2v4z\"/>\n",
              "    </g>\n",
              "</svg>\n",
              "  </button>\n",
              "\n",
              "<style>\n",
              "  .colab-df-quickchart {\n",
              "      --bg-color: #E8F0FE;\n",
              "      --fill-color: #1967D2;\n",
              "      --hover-bg-color: #E2EBFA;\n",
              "      --hover-fill-color: #174EA6;\n",
              "      --disabled-fill-color: #AAA;\n",
              "      --disabled-bg-color: #DDD;\n",
              "  }\n",
              "\n",
              "  [theme=dark] .colab-df-quickchart {\n",
              "      --bg-color: #3B4455;\n",
              "      --fill-color: #D2E3FC;\n",
              "      --hover-bg-color: #434B5C;\n",
              "      --hover-fill-color: #FFFFFF;\n",
              "      --disabled-bg-color: #3B4455;\n",
              "      --disabled-fill-color: #666;\n",
              "  }\n",
              "\n",
              "  .colab-df-quickchart {\n",
              "    background-color: var(--bg-color);\n",
              "    border: none;\n",
              "    border-radius: 50%;\n",
              "    cursor: pointer;\n",
              "    display: none;\n",
              "    fill: var(--fill-color);\n",
              "    height: 32px;\n",
              "    padding: 0;\n",
              "    width: 32px;\n",
              "  }\n",
              "\n",
              "  .colab-df-quickchart:hover {\n",
              "    background-color: var(--hover-bg-color);\n",
              "    box-shadow: 0 1px 2px rgba(60, 64, 67, 0.3), 0 1px 3px 1px rgba(60, 64, 67, 0.15);\n",
              "    fill: var(--button-hover-fill-color);\n",
              "  }\n",
              "\n",
              "  .colab-df-quickchart-complete:disabled,\n",
              "  .colab-df-quickchart-complete:disabled:hover {\n",
              "    background-color: var(--disabled-bg-color);\n",
              "    fill: var(--disabled-fill-color);\n",
              "    box-shadow: none;\n",
              "  }\n",
              "\n",
              "  .colab-df-spinner {\n",
              "    border: 2px solid var(--fill-color);\n",
              "    border-color: transparent;\n",
              "    border-bottom-color: var(--fill-color);\n",
              "    animation:\n",
              "      spin 1s steps(1) infinite;\n",
              "  }\n",
              "\n",
              "  @keyframes spin {\n",
              "    0% {\n",
              "      border-color: transparent;\n",
              "      border-bottom-color: var(--fill-color);\n",
              "      border-left-color: var(--fill-color);\n",
              "    }\n",
              "    20% {\n",
              "      border-color: transparent;\n",
              "      border-left-color: var(--fill-color);\n",
              "      border-top-color: var(--fill-color);\n",
              "    }\n",
              "    30% {\n",
              "      border-color: transparent;\n",
              "      border-left-color: var(--fill-color);\n",
              "      border-top-color: var(--fill-color);\n",
              "      border-right-color: var(--fill-color);\n",
              "    }\n",
              "    40% {\n",
              "      border-color: transparent;\n",
              "      border-right-color: var(--fill-color);\n",
              "      border-top-color: var(--fill-color);\n",
              "    }\n",
              "    60% {\n",
              "      border-color: transparent;\n",
              "      border-right-color: var(--fill-color);\n",
              "    }\n",
              "    80% {\n",
              "      border-color: transparent;\n",
              "      border-right-color: var(--fill-color);\n",
              "      border-bottom-color: var(--fill-color);\n",
              "    }\n",
              "    90% {\n",
              "      border-color: transparent;\n",
              "      border-bottom-color: var(--fill-color);\n",
              "    }\n",
              "  }\n",
              "</style>\n",
              "\n",
              "  <script>\n",
              "    async function quickchart(key) {\n",
              "      const quickchartButtonEl =\n",
              "        document.querySelector('#' + key + ' button');\n",
              "      quickchartButtonEl.disabled = true;  // To prevent multiple clicks.\n",
              "      quickchartButtonEl.classList.add('colab-df-spinner');\n",
              "      try {\n",
              "        const charts = await google.colab.kernel.invokeFunction(\n",
              "            'suggestCharts', [key], {});\n",
              "      } catch (error) {\n",
              "        console.error('Error during call to suggestCharts:', error);\n",
              "      }\n",
              "      quickchartButtonEl.classList.remove('colab-df-spinner');\n",
              "      quickchartButtonEl.classList.add('colab-df-quickchart-complete');\n",
              "    }\n",
              "    (() => {\n",
              "      let quickchartButtonEl =\n",
              "        document.querySelector('#df-460a061c-992e-48b0-88e9-2ce92e00bb13 button');\n",
              "      quickchartButtonEl.style.display =\n",
              "        google.colab.kernel.accessAllowed ? 'block' : 'none';\n",
              "    })();\n",
              "  </script>\n",
              "</div>\n",
              "\n",
              "    </div>\n",
              "  </div>\n"
            ]
          },
          "metadata": {},
          "execution_count": 9
        }
      ],
      "source": [
        "df.describe()"
      ]
    },
    {
      "cell_type": "code",
      "source": [
        "df.columns"
      ],
      "metadata": {
        "colab": {
          "base_uri": "https://localhost:8080/"
        },
        "id": "hY-1ujTvRYpI",
        "outputId": "a0aed7dd-56bb-45c7-a17a-4f0b21b581ce"
      },
      "execution_count": 10,
      "outputs": [
        {
          "output_type": "execute_result",
          "data": {
            "text/plain": [
              "Index(['seller', 'offerType', 'price', 'vehicleType', 'yearOfRegistration',\n",
              "       'gearbox', 'powerPS', 'model', 'kilometer', 'monthOfRegistration',\n",
              "       'fuelType', 'brand', 'notRepairedDamage'],\n",
              "      dtype='object')"
            ]
          },
          "metadata": {},
          "execution_count": 10
        }
      ]
    },
    {
      "cell_type": "code",
      "source": [
        "df = df.drop(['yearOfRegistration','monthOfRegistration'], axis=1)"
      ],
      "metadata": {
        "id": "hIxuQMzccD26"
      },
      "execution_count": 11,
      "outputs": []
    },
    {
      "cell_type": "code",
      "source": [
        "df[(df['powerPS'] > 0) & (df['powerPS'] < 50)].shape"
      ],
      "metadata": {
        "colab": {
          "base_uri": "https://localhost:8080/"
        },
        "id": "B3a8y03Ocv1S",
        "outputId": "9196319f-6419-4e7b-eeae-ce2f6cef1d8d"
      },
      "execution_count": 12,
      "outputs": [
        {
          "output_type": "execute_result",
          "data": {
            "text/plain": [
              "(1299, 11)"
            ]
          },
          "metadata": {},
          "execution_count": 12
        }
      ]
    },
    {
      "cell_type": "code",
      "source": [
        "df = df[df['powerPS'] >=40]"
      ],
      "metadata": {
        "id": "HOwszh7WdYV9"
      },
      "execution_count": 13,
      "outputs": []
    },
    {
      "cell_type": "code",
      "source": [
        "df = remove_outliers(df, ['powerPS'])"
      ],
      "metadata": {
        "id": "2CYsYbRwcQys"
      },
      "execution_count": 14,
      "outputs": []
    },
    {
      "cell_type": "code",
      "source": [
        "df.powerPS.describe()"
      ],
      "metadata": {
        "colab": {
          "base_uri": "https://localhost:8080/"
        },
        "id": "3z8N14iIcmtp",
        "outputId": "cf8b5d55-e6e9-4469-a948-2c309d1fe97b"
      },
      "execution_count": 15,
      "outputs": [
        {
          "output_type": "execute_result",
          "data": {
            "text/plain": [
              "count    175481.000000\n",
              "mean        125.721218\n",
              "std          45.956403\n",
              "min          40.000000\n",
              "25%          90.000000\n",
              "50%         120.000000\n",
              "75%         150.000000\n",
              "max         265.000000\n",
              "Name: powerPS, dtype: float64"
            ]
          },
          "metadata": {},
          "execution_count": 15
        }
      ]
    },
    {
      "cell_type": "code",
      "source": [
        "df.columns"
      ],
      "metadata": {
        "outputId": "f943f815-85d0-4672-fc0e-a55f6b812e10",
        "colab": {
          "base_uri": "https://localhost:8080/"
        },
        "id": "BHGuWqE7cIG9"
      },
      "execution_count": 16,
      "outputs": [
        {
          "output_type": "execute_result",
          "data": {
            "text/plain": [
              "Index(['seller', 'offerType', 'price', 'vehicleType', 'gearbox', 'powerPS',\n",
              "       'model', 'kilometer', 'fuelType', 'brand', 'notRepairedDamage'],\n",
              "      dtype='object')"
            ]
          },
          "metadata": {},
          "execution_count": 16
        }
      ]
    },
    {
      "cell_type": "code",
      "source": [
        "print(df.seller.unique())\n",
        "print(df.offerType.unique())\n",
        "print(df.gearbox.unique())\n",
        "print(df.notRepairedDamage.unique())\n",
        "print(\"\")\n",
        "print(df.vehicleType.unique())\n",
        "print(df.fuelType.unique())\n",
        "print(\"\")\n",
        "print(df.model.unique())\n",
        "print(\"\")\n",
        "print(df.brand.unique())\n"
      ],
      "metadata": {
        "colab": {
          "base_uri": "https://localhost:8080/"
        },
        "id": "h_uk-cwnRH5M",
        "outputId": "02bd0064-cb4b-487b-bab9-af70c5a38652"
      },
      "execution_count": 17,
      "outputs": [
        {
          "output_type": "stream",
          "name": "stdout",
          "text": [
            "['privat' 'gewerblich']\n",
            "['Angebot' 'Gesuch']\n",
            "['manuell' 'automatik']\n",
            "['nein' 'ja']\n",
            "\n",
            "['kleinwagen' 'cabrio' 'limousine' 'kombi' 'suv' 'bus' 'coupe' 'andere']\n",
            "['benzin' 'diesel' 'lpg' 'andere' 'hybrid' 'cng' 'elektro']\n",
            "\n",
            "['golf' 'fabia' '2_reihe' '3_reihe' 'passat' 'navara' 'twingo' 'c_max'\n",
            " 'a_klasse' 'scirocco' '5er' 'civic' 'transporter' 'e_klasse' '3er'\n",
            " 'andere' 'one' '1er' 'b_klasse' 'fortwo' 'a8' 'jetta' 'c_klasse' 'micra'\n",
            " 'vito' 'sprinter' 'forester' 'fiesta' 'scenic' 'a1' 'focus' 'tt' 'astra'\n",
            " 'a6' 'jazz' 'polo' 'slk' 'combo' '80' '147' 'z_reihe' 'ibiza' 'eos' 'a4'\n",
            " 'touran' 'getz' 'insignia' 'megane' 'a3' 'lupo' 'clio' 'berlingo' '7er'\n",
            " 'tiguan' 'mustang' '6_reihe' 'c4' 'panda' 'up' 'i_reihe' 'ceed' '5_reihe'\n",
            " 'yeti' 'octavia' 'zafira' 'mii' 'rx_reihe' 'corsa' '6er' 'punto' 'fox'\n",
            " 'vectra' 'matiz' 'beetle' 'rio' 'touareg' 'logan' 'cuore' 's_max' 'modus'\n",
            " 'a2' 'a5' 'galaxy' 'c3' 'viano' 'mondeo' 'sharan' 'avensis' 'roomster'\n",
            " 'sl' 'kaefer' 'santa' 'cooper' 'sportage' 'caddy' 'clk' 'primera'\n",
            " '4_reihe' 's_klasse' 'exeo' 'juke' 'x_reihe' 'espace' 'accord' 'corolla'\n",
            " 'grand' 'phaeton' 'verso' 'swift' 'rav' 'qashqai' 'colt' '159' 'picanto'\n",
            " 'boxster' 'stilo' 'alhambra' 'roadster' 'signum' 'crossfire' 'duster'\n",
            " 'ka' 'kangoo' 'sorento' 'v50' 'mx_reihe' 'meriva' 'c_reihe' 'v_klasse'\n",
            " 'm_klasse' 'yaris' 'c5' 'aygo' 'almera' 'bora' 'forfour' 'agila' 'leon'\n",
            " 'cl' 'tigra' '156' '300c' '500' 'ptcruiser' '100' 'cr_reihe' 'xc_reihe'\n",
            " 'escort' 'spark' 'kuga' 'x_type' 'ducato' 's_type' 'x_trail' 'toledo'\n",
            " 'altea' 'arosa' 'voyager' 'carnival' 'v70' 'omega' 'transit' 'c1'\n",
            " 'citigo' 'jimny' 'wrangler' 'lybra' 'captiva' 'fusion' 'discovery'\n",
            " 'sandero' 'q7' 'note' 'kadett' 'impreza' 'spider' '90' 'antara' 'sirion'\n",
            " 'q5' 'cherokee' 'clubman' '1_reihe' 'defender' 'laguna' 'lancer'\n",
            " 'cx_reihe' 'legacy' 'pajero' 'cordoba' 'c2' 'cc' 'niva' 's60' '900'\n",
            " 'nubira' 'vivaro' 'tucson' 'g_klasse' 'freelander' 'auris' 'carisma'\n",
            " 'galant' 'lodgy' 'range_rover' '850' 'ypsilon' 'superb' 'q3' 'justy'\n",
            " 'serie_2' 'calibra' 'glk' 'charade' 'v40' 'croma' 'outlander' 'doblo'\n",
            " 'gl' 'musa' 'seicento' '9000' 'kalos' 'v60' 'bravo' '200' 'r19' 'b_max'\n",
            " 'lanos' 'cayenne' 'range_rover_sport' 'aveo' '911' 'm_reihe' 'materia'\n",
            " 'terios' 'delta' 'kalina' 'i3' '145' 'samara' 'amarok' '601' 'serie_3'\n",
            " 'kappa' 'rangerover' 'move']\n",
            "\n",
            "['volkswagen' 'skoda' 'peugeot' 'mazda' 'nissan' 'renault' 'ford'\n",
            " 'mercedes_benz' 'bmw' 'honda' 'mini' 'smart' 'audi' 'subaru' 'mitsubishi'\n",
            " 'opel' 'alfa_romeo' 'seat' 'hyundai' 'lancia' 'citroen' 'fiat' 'toyota'\n",
            " 'kia' 'chevrolet' 'dacia' 'suzuki' 'daihatsu' 'chrysler' 'jaguar' 'rover'\n",
            " 'porsche' 'jeep' 'saab' 'daewoo' 'volvo' 'land_rover' 'trabant' 'lada']\n"
          ]
        }
      ]
    },
    {
      "cell_type": "code",
      "source": [
        "len(df.model.unique())"
      ],
      "metadata": {
        "colab": {
          "base_uri": "https://localhost:8080/"
        },
        "id": "39RYQxjLg0gb",
        "outputId": "f801d46a-c66b-4fb3-939d-b106db97ce54"
      },
      "execution_count": 18,
      "outputs": [
        {
          "output_type": "execute_result",
          "data": {
            "text/plain": [
              "247"
            ]
          },
          "metadata": {},
          "execution_count": 18
        }
      ]
    },
    {
      "cell_type": "code",
      "source": [
        "# Splitting the data\n",
        "X = df.drop('price', axis=1)\n",
        "y = df['price']"
      ],
      "metadata": {
        "id": "0NR0DQq-RNSn"
      },
      "execution_count": 19,
      "outputs": []
    },
    {
      "cell_type": "code",
      "source": [
        "X.columns"
      ],
      "metadata": {
        "colab": {
          "base_uri": "https://localhost:8080/"
        },
        "id": "28-p_qiPeNOF",
        "outputId": "e17ae580-8daa-4bf7-cda9-1a91ca51cba2"
      },
      "execution_count": 20,
      "outputs": [
        {
          "output_type": "execute_result",
          "data": {
            "text/plain": [
              "Index(['seller', 'offerType', 'vehicleType', 'gearbox', 'powerPS', 'model',\n",
              "       'kilometer', 'fuelType', 'brand', 'notRepairedDamage'],\n",
              "      dtype='object')"
            ]
          },
          "metadata": {},
          "execution_count": 20
        }
      ]
    },
    {
      "cell_type": "code",
      "source": [
        "from category_encoders import TargetEncoder\n",
        "from sklearn.model_selection import KFold\n",
        "from sklearn.preprocessing import LabelEncoder, StandardScaler\n",
        "from xgboost import XGBRegressor\n",
        "from sklearn.model_selection import GridSearchCV"
      ],
      "metadata": {
        "id": "U77afxC6hsw4"
      },
      "execution_count": 21,
      "outputs": []
    },
    {
      "cell_type": "code",
      "execution_count": 22,
      "metadata": {
        "id": "vj8N9XhpPaub"
      },
      "outputs": [],
      "source": [
        "Encoder = ColumnTransformer(\n",
        "    transformers=[\n",
        "        (\"BE\", BinaryEncoder(), ['seller', 'offerType','gearbox','notRepairedDamage']),\n",
        "         ('TE', TargetEncoder(),['vehicleType', 'fuelType','model', 'brand'])],\n",
        "    remainder = \"passthrough\")"
      ]
    },
    {
      "cell_type": "code",
      "source": [],
      "metadata": {
        "id": "xaVSGcz5SJs1"
      },
      "execution_count": 22,
      "outputs": []
    },
    {
      "cell_type": "code",
      "source": [
        "steps = []\n",
        "steps.append((\"Encoder\" , Encoder))\n",
        "steps.append((\"Scaler\" , StandardScaler()))\n",
        "steps.append((\"Model\" , KNeighborsRegressor()))\n",
        "pipeline = Pipeline(steps=steps)"
      ],
      "metadata": {
        "id": "of6Zo72cTqSt"
      },
      "execution_count": 97,
      "outputs": []
    },
    {
      "cell_type": "code",
      "source": [
        "kfold = KFold(n_splits=5, shuffle=True, random_state=0)\n",
        "results = cross_validate(pipeline , X ,y , cv = kfold , scoring=\"r2\" , return_train_score=True)\n"
      ],
      "metadata": {
        "id": "seT6BUHFTr0U"
      },
      "execution_count": 98,
      "outputs": []
    },
    {
      "cell_type": "code",
      "source": [
        "results[\"train_score\"].mean()"
      ],
      "metadata": {
        "colab": {
          "base_uri": "https://localhost:8080/"
        },
        "id": "1m-J4Nh6Uf2B",
        "outputId": "e837f2b0-fa76-44e6-97dc-07361dbd1541"
      },
      "execution_count": 99,
      "outputs": [
        {
          "output_type": "execute_result",
          "data": {
            "text/plain": [
              "0.8008112409049897"
            ]
          },
          "metadata": {},
          "execution_count": 99
        }
      ]
    },
    {
      "cell_type": "code",
      "source": [
        "results[\"test_score\"].mean()"
      ],
      "metadata": {
        "colab": {
          "base_uri": "https://localhost:8080/"
        },
        "id": "2718SL0AUgRL",
        "outputId": "196ca50c-2af4-4e8e-b629-4b38c0b54329"
      },
      "execution_count": 100,
      "outputs": [
        {
          "output_type": "execute_result",
          "data": {
            "text/plain": [
              "0.7419029113023534"
            ]
          },
          "metadata": {},
          "execution_count": 100
        }
      ]
    },
    {
      "cell_type": "code",
      "source": [
        "models = list()\n",
        "models.append((\"LR\" , LinearRegression()))\n",
        "models.append((\"KNN\" , KNeighborsRegressor()))\n",
        "models.append((\"DT\" , DecisionTreeRegressor()))\n",
        "models.append((\"RF\" , RandomForestRegressor()))\n",
        "models.append((\"xg\" , XGBRegressor()))"
      ],
      "metadata": {
        "id": "KKYBgTlTqAFR"
      },
      "execution_count": 143,
      "outputs": []
    },
    {
      "cell_type": "code",
      "source": [
        "for model in models:\n",
        "    steps = list()\n",
        "    steps.append((\"Encoder\" , Encoder))\n",
        "    steps.append((\"Scaler\" , RobustScaler()))\n",
        "    steps.append(model)\n",
        "    pipeline = Pipeline(steps = steps)\n",
        "    kfold = KFold(n_splits=5, shuffle=True, random_state=0)\n",
        "    scores = cross_validate(pipeline , X , y , scoring=\"r2\"  ,cv = kfold , return_train_score=True)\n",
        "    print(model[0])\n",
        "    print(\"Train_r2\" , scores[\"train_score\"].mean() )\n",
        "    print(\"-\" * 10)\n",
        "    print(\"Test_r2\" , scores[\"test_score\"].mean())\n",
        "    print(\"-\" * 20)\n",
        "    print(\"\\n\")"
      ],
      "metadata": {
        "colab": {
          "base_uri": "https://localhost:8080/"
        },
        "id": "_p1o1g9tqm1Y",
        "outputId": "656aad24-8238-4dd6-cca1-0fc8e3b060f2"
      },
      "execution_count": 144,
      "outputs": [
        {
          "output_type": "stream",
          "name": "stdout",
          "text": [
            "LR\n",
            "Train_r2 0.5900514160084663\n",
            "----------\n",
            "Test_r2 0.5894575196865732\n",
            "--------------------\n",
            "\n",
            "\n",
            "KNN\n",
            "Train_r2 0.7997059201011641\n",
            "----------\n",
            "Test_r2 0.7361963499864377\n",
            "--------------------\n",
            "\n",
            "\n",
            "CART\n",
            "Train_r2 0.8897854153893089\n",
            "----------\n",
            "Test_r2 0.7341029083009953\n",
            "--------------------\n",
            "\n",
            "\n",
            "RF\n",
            "Train_r2 0.8796922963277473\n",
            "----------\n",
            "Test_r2 0.7871476855522468\n",
            "--------------------\n",
            "\n",
            "\n",
            "xg\n",
            "Train_r2 0.794094967759326\n",
            "----------\n",
            "Test_r2 0.7747066093004443\n",
            "--------------------\n",
            "\n",
            "\n"
          ]
        }
      ]
    },
    {
      "cell_type": "markdown",
      "source": [
        "best model is XGregressor"
      ],
      "metadata": {
        "id": "FJWds6cHsWY_"
      }
    },
    {
      "cell_type": "code",
      "source": [
        "steps = list()\n",
        "steps.append((\"Encoder\" , Encoder))\n",
        "steps.append((\"Scaler\" , RobustScaler()))\n",
        "steps.append((\"xg\" , XGBRegressor()))\n",
        "pipeline = Pipeline(steps = steps)\n",
        "kfold = KFold(n_splits=5, shuffle=True, random_state=0)\n",
        "scores = cross_validate(pipeline , X , y , scoring=\"r2\"  ,cv = 5 , return_train_score=True , return_estimator=True)"
      ],
      "metadata": {
        "id": "MNZUy7x_sYlv"
      },
      "execution_count": 23,
      "outputs": []
    },
    {
      "cell_type": "code",
      "source": [
        "scores[\"estimator\"][0][\"xg\"].get_params()"
      ],
      "metadata": {
        "colab": {
          "base_uri": "https://localhost:8080/"
        },
        "id": "iELGiN3FsnJB",
        "outputId": "36c996c1-5435-4076-a1da-7804506d4921"
      },
      "execution_count": 24,
      "outputs": [
        {
          "output_type": "execute_result",
          "data": {
            "text/plain": [
              "{'objective': 'reg:squarederror',\n",
              " 'base_score': None,\n",
              " 'booster': None,\n",
              " 'callbacks': None,\n",
              " 'colsample_bylevel': None,\n",
              " 'colsample_bynode': None,\n",
              " 'colsample_bytree': None,\n",
              " 'device': None,\n",
              " 'early_stopping_rounds': None,\n",
              " 'enable_categorical': False,\n",
              " 'eval_metric': None,\n",
              " 'feature_types': None,\n",
              " 'gamma': None,\n",
              " 'grow_policy': None,\n",
              " 'importance_type': None,\n",
              " 'interaction_constraints': None,\n",
              " 'learning_rate': None,\n",
              " 'max_bin': None,\n",
              " 'max_cat_threshold': None,\n",
              " 'max_cat_to_onehot': None,\n",
              " 'max_delta_step': None,\n",
              " 'max_depth': None,\n",
              " 'max_leaves': None,\n",
              " 'min_child_weight': None,\n",
              " 'missing': nan,\n",
              " 'monotone_constraints': None,\n",
              " 'multi_strategy': None,\n",
              " 'n_estimators': None,\n",
              " 'n_jobs': None,\n",
              " 'num_parallel_tree': None,\n",
              " 'random_state': None,\n",
              " 'reg_alpha': None,\n",
              " 'reg_lambda': None,\n",
              " 'sampling_method': None,\n",
              " 'scale_pos_weight': None,\n",
              " 'subsample': None,\n",
              " 'tree_method': None,\n",
              " 'validate_parameters': None,\n",
              " 'verbosity': None}"
            ]
          },
          "metadata": {},
          "execution_count": 24
        }
      ]
    },
    {
      "cell_type": "code",
      "source": [
        "param_grid = {\n",
        "    \"xg__learning_rate\": [0.2],\n",
        "    \"xg__max_depth\": [10],\n",
        "    \"xg__n_estimators\": [240],\n",
        "    \"xg__reg_lambda\" : [3]\n",
        "\n",
        "}\n",
        "# best parameters are 0.2 10 240 4 with train & test 0.8666 0.8020"
      ],
      "metadata": {
        "id": "E1YtCN3ks_Np"
      },
      "execution_count": 33,
      "outputs": []
    },
    {
      "cell_type": "code",
      "source": [
        "steps = []\n",
        "steps.append((\"Encoder\" , Encoder))\n",
        "steps.append((\"Scaler\" , RobustScaler()))\n",
        "steps.append((\"xg\" , XGBRegressor()))\n",
        "pipeline = Pipeline(steps=steps)\n",
        "kfold = KFold(n_splits=5, shuffle=True, random_state=0)\n",
        "grid_search = GridSearchCV(estimator=pipeline , param_grid=param_grid , cv =kfold ,scoring=\"r2\" , return_train_score=True , n_jobs = -1)\n",
        "grid_search.fit(X,y)\n"
      ],
      "metadata": {
        "colab": {
          "base_uri": "https://localhost:8080/",
          "height": 257
        },
        "id": "g-og94sYtEj1",
        "outputId": "1b88d64d-6d48-4e63-c42a-44c9f24ba722"
      },
      "execution_count": 34,
      "outputs": [
        {
          "output_type": "execute_result",
          "data": {
            "text/plain": [
              "GridSearchCV(cv=KFold(n_splits=5, random_state=0, shuffle=True),\n",
              "             estimator=Pipeline(steps=[('Encoder',\n",
              "                                        ColumnTransformer(remainder='passthrough',\n",
              "                                                          transformers=[('BE',\n",
              "                                                                         BinaryEncoder(),\n",
              "                                                                         ['seller',\n",
              "                                                                          'offerType',\n",
              "                                                                          'gearbox',\n",
              "                                                                          'notRepairedDamage']),\n",
              "                                                                        ('TE',\n",
              "                                                                         TargetEncoder(),\n",
              "                                                                         ['vehicleType',\n",
              "                                                                          'fuelType',\n",
              "                                                                          'model',\n",
              "                                                                          'brand'])])),\n",
              "                                       ('Scaler', RobustScaler()),\n",
              "                                       ('xg',\n",
              "                                        XGBRegressor(base_...\n",
              "                                                     max_delta_step=None,\n",
              "                                                     max_depth=None,\n",
              "                                                     max_leaves=None,\n",
              "                                                     min_child_weight=None,\n",
              "                                                     missing=nan,\n",
              "                                                     monotone_constraints=None,\n",
              "                                                     multi_strategy=None,\n",
              "                                                     n_estimators=None,\n",
              "                                                     n_jobs=None,\n",
              "                                                     num_parallel_tree=None,\n",
              "                                                     random_state=None, ...))]),\n",
              "             n_jobs=-1,\n",
              "             param_grid={'xg__learning_rate': [0.2], 'xg__max_depth': [10],\n",
              "                         'xg__n_estimators': [240], 'xg__reg_lambda': [3]},\n",
              "             return_train_score=True, scoring='r2')"
            ],
            "text/html": [
              "<style>#sk-container-id-3 {color: black;background-color: white;}#sk-container-id-3 pre{padding: 0;}#sk-container-id-3 div.sk-toggleable {background-color: white;}#sk-container-id-3 label.sk-toggleable__label {cursor: pointer;display: block;width: 100%;margin-bottom: 0;padding: 0.3em;box-sizing: border-box;text-align: center;}#sk-container-id-3 label.sk-toggleable__label-arrow:before {content: \"▸\";float: left;margin-right: 0.25em;color: #696969;}#sk-container-id-3 label.sk-toggleable__label-arrow:hover:before {color: black;}#sk-container-id-3 div.sk-estimator:hover label.sk-toggleable__label-arrow:before {color: black;}#sk-container-id-3 div.sk-toggleable__content {max-height: 0;max-width: 0;overflow: hidden;text-align: left;background-color: #f0f8ff;}#sk-container-id-3 div.sk-toggleable__content pre {margin: 0.2em;color: black;border-radius: 0.25em;background-color: #f0f8ff;}#sk-container-id-3 input.sk-toggleable__control:checked~div.sk-toggleable__content {max-height: 200px;max-width: 100%;overflow: auto;}#sk-container-id-3 input.sk-toggleable__control:checked~label.sk-toggleable__label-arrow:before {content: \"▾\";}#sk-container-id-3 div.sk-estimator input.sk-toggleable__control:checked~label.sk-toggleable__label {background-color: #d4ebff;}#sk-container-id-3 div.sk-label input.sk-toggleable__control:checked~label.sk-toggleable__label {background-color: #d4ebff;}#sk-container-id-3 input.sk-hidden--visually {border: 0;clip: rect(1px 1px 1px 1px);clip: rect(1px, 1px, 1px, 1px);height: 1px;margin: -1px;overflow: hidden;padding: 0;position: absolute;width: 1px;}#sk-container-id-3 div.sk-estimator {font-family: monospace;background-color: #f0f8ff;border: 1px dotted black;border-radius: 0.25em;box-sizing: border-box;margin-bottom: 0.5em;}#sk-container-id-3 div.sk-estimator:hover {background-color: #d4ebff;}#sk-container-id-3 div.sk-parallel-item::after {content: \"\";width: 100%;border-bottom: 1px solid gray;flex-grow: 1;}#sk-container-id-3 div.sk-label:hover label.sk-toggleable__label {background-color: #d4ebff;}#sk-container-id-3 div.sk-serial::before {content: \"\";position: absolute;border-left: 1px solid gray;box-sizing: border-box;top: 0;bottom: 0;left: 50%;z-index: 0;}#sk-container-id-3 div.sk-serial {display: flex;flex-direction: column;align-items: center;background-color: white;padding-right: 0.2em;padding-left: 0.2em;position: relative;}#sk-container-id-3 div.sk-item {position: relative;z-index: 1;}#sk-container-id-3 div.sk-parallel {display: flex;align-items: stretch;justify-content: center;background-color: white;position: relative;}#sk-container-id-3 div.sk-item::before, #sk-container-id-3 div.sk-parallel-item::before {content: \"\";position: absolute;border-left: 1px solid gray;box-sizing: border-box;top: 0;bottom: 0;left: 50%;z-index: -1;}#sk-container-id-3 div.sk-parallel-item {display: flex;flex-direction: column;z-index: 1;position: relative;background-color: white;}#sk-container-id-3 div.sk-parallel-item:first-child::after {align-self: flex-end;width: 50%;}#sk-container-id-3 div.sk-parallel-item:last-child::after {align-self: flex-start;width: 50%;}#sk-container-id-3 div.sk-parallel-item:only-child::after {width: 0;}#sk-container-id-3 div.sk-dashed-wrapped {border: 1px dashed gray;margin: 0 0.4em 0.5em 0.4em;box-sizing: border-box;padding-bottom: 0.4em;background-color: white;}#sk-container-id-3 div.sk-label label {font-family: monospace;font-weight: bold;display: inline-block;line-height: 1.2em;}#sk-container-id-3 div.sk-label-container {text-align: center;}#sk-container-id-3 div.sk-container {/* jupyter's `normalize.less` sets `[hidden] { display: none; }` but bootstrap.min.css set `[hidden] { display: none !important; }` so we also need the `!important` here to be able to override the default hidden behavior on the sphinx rendered scikit-learn.org. See: https://github.com/scikit-learn/scikit-learn/issues/21755 */display: inline-block !important;position: relative;}#sk-container-id-3 div.sk-text-repr-fallback {display: none;}</style><div id=\"sk-container-id-3\" class=\"sk-top-container\"><div class=\"sk-text-repr-fallback\"><pre>GridSearchCV(cv=KFold(n_splits=5, random_state=0, shuffle=True),\n",
              "             estimator=Pipeline(steps=[(&#x27;Encoder&#x27;,\n",
              "                                        ColumnTransformer(remainder=&#x27;passthrough&#x27;,\n",
              "                                                          transformers=[(&#x27;BE&#x27;,\n",
              "                                                                         BinaryEncoder(),\n",
              "                                                                         [&#x27;seller&#x27;,\n",
              "                                                                          &#x27;offerType&#x27;,\n",
              "                                                                          &#x27;gearbox&#x27;,\n",
              "                                                                          &#x27;notRepairedDamage&#x27;]),\n",
              "                                                                        (&#x27;TE&#x27;,\n",
              "                                                                         TargetEncoder(),\n",
              "                                                                         [&#x27;vehicleType&#x27;,\n",
              "                                                                          &#x27;fuelType&#x27;,\n",
              "                                                                          &#x27;model&#x27;,\n",
              "                                                                          &#x27;brand&#x27;])])),\n",
              "                                       (&#x27;Scaler&#x27;, RobustScaler()),\n",
              "                                       (&#x27;xg&#x27;,\n",
              "                                        XGBRegressor(base_...\n",
              "                                                     max_delta_step=None,\n",
              "                                                     max_depth=None,\n",
              "                                                     max_leaves=None,\n",
              "                                                     min_child_weight=None,\n",
              "                                                     missing=nan,\n",
              "                                                     monotone_constraints=None,\n",
              "                                                     multi_strategy=None,\n",
              "                                                     n_estimators=None,\n",
              "                                                     n_jobs=None,\n",
              "                                                     num_parallel_tree=None,\n",
              "                                                     random_state=None, ...))]),\n",
              "             n_jobs=-1,\n",
              "             param_grid={&#x27;xg__learning_rate&#x27;: [0.2], &#x27;xg__max_depth&#x27;: [10],\n",
              "                         &#x27;xg__n_estimators&#x27;: [240], &#x27;xg__reg_lambda&#x27;: [3]},\n",
              "             return_train_score=True, scoring=&#x27;r2&#x27;)</pre><b>In a Jupyter environment, please rerun this cell to show the HTML representation or trust the notebook. <br />On GitHub, the HTML representation is unable to render, please try loading this page with nbviewer.org.</b></div><div class=\"sk-container\" hidden><div class=\"sk-item sk-dashed-wrapped\"><div class=\"sk-label-container\"><div class=\"sk-label sk-toggleable\"><input class=\"sk-toggleable__control sk-hidden--visually\" id=\"sk-estimator-id-23\" type=\"checkbox\" ><label for=\"sk-estimator-id-23\" class=\"sk-toggleable__label sk-toggleable__label-arrow\">GridSearchCV</label><div class=\"sk-toggleable__content\"><pre>GridSearchCV(cv=KFold(n_splits=5, random_state=0, shuffle=True),\n",
              "             estimator=Pipeline(steps=[(&#x27;Encoder&#x27;,\n",
              "                                        ColumnTransformer(remainder=&#x27;passthrough&#x27;,\n",
              "                                                          transformers=[(&#x27;BE&#x27;,\n",
              "                                                                         BinaryEncoder(),\n",
              "                                                                         [&#x27;seller&#x27;,\n",
              "                                                                          &#x27;offerType&#x27;,\n",
              "                                                                          &#x27;gearbox&#x27;,\n",
              "                                                                          &#x27;notRepairedDamage&#x27;]),\n",
              "                                                                        (&#x27;TE&#x27;,\n",
              "                                                                         TargetEncoder(),\n",
              "                                                                         [&#x27;vehicleType&#x27;,\n",
              "                                                                          &#x27;fuelType&#x27;,\n",
              "                                                                          &#x27;model&#x27;,\n",
              "                                                                          &#x27;brand&#x27;])])),\n",
              "                                       (&#x27;Scaler&#x27;, RobustScaler()),\n",
              "                                       (&#x27;xg&#x27;,\n",
              "                                        XGBRegressor(base_...\n",
              "                                                     max_delta_step=None,\n",
              "                                                     max_depth=None,\n",
              "                                                     max_leaves=None,\n",
              "                                                     min_child_weight=None,\n",
              "                                                     missing=nan,\n",
              "                                                     monotone_constraints=None,\n",
              "                                                     multi_strategy=None,\n",
              "                                                     n_estimators=None,\n",
              "                                                     n_jobs=None,\n",
              "                                                     num_parallel_tree=None,\n",
              "                                                     random_state=None, ...))]),\n",
              "             n_jobs=-1,\n",
              "             param_grid={&#x27;xg__learning_rate&#x27;: [0.2], &#x27;xg__max_depth&#x27;: [10],\n",
              "                         &#x27;xg__n_estimators&#x27;: [240], &#x27;xg__reg_lambda&#x27;: [3]},\n",
              "             return_train_score=True, scoring=&#x27;r2&#x27;)</pre></div></div></div><div class=\"sk-parallel\"><div class=\"sk-parallel-item\"><div class=\"sk-item\"><div class=\"sk-label-container\"><div class=\"sk-label sk-toggleable\"><input class=\"sk-toggleable__control sk-hidden--visually\" id=\"sk-estimator-id-24\" type=\"checkbox\" ><label for=\"sk-estimator-id-24\" class=\"sk-toggleable__label sk-toggleable__label-arrow\">estimator: Pipeline</label><div class=\"sk-toggleable__content\"><pre>Pipeline(steps=[(&#x27;Encoder&#x27;,\n",
              "                 ColumnTransformer(remainder=&#x27;passthrough&#x27;,\n",
              "                                   transformers=[(&#x27;BE&#x27;, BinaryEncoder(),\n",
              "                                                  [&#x27;seller&#x27;, &#x27;offerType&#x27;,\n",
              "                                                   &#x27;gearbox&#x27;,\n",
              "                                                   &#x27;notRepairedDamage&#x27;]),\n",
              "                                                 (&#x27;TE&#x27;, TargetEncoder(),\n",
              "                                                  [&#x27;vehicleType&#x27;, &#x27;fuelType&#x27;,\n",
              "                                                   &#x27;model&#x27;, &#x27;brand&#x27;])])),\n",
              "                (&#x27;Scaler&#x27;, RobustScaler()),\n",
              "                (&#x27;xg&#x27;,\n",
              "                 XGBRegressor(base_score=None, booster=None, callbacks=None,\n",
              "                              colsample_bylevel=None, colsample_...\n",
              "                              feature_types=None, gamma=None, grow_policy=None,\n",
              "                              importance_type=None,\n",
              "                              interaction_constraints=None, learning_rate=None,\n",
              "                              max_bin=None, max_cat_threshold=None,\n",
              "                              max_cat_to_onehot=None, max_delta_step=None,\n",
              "                              max_depth=None, max_leaves=None,\n",
              "                              min_child_weight=None, missing=nan,\n",
              "                              monotone_constraints=None, multi_strategy=None,\n",
              "                              n_estimators=None, n_jobs=None,\n",
              "                              num_parallel_tree=None, random_state=None, ...))])</pre></div></div></div><div class=\"sk-serial\"><div class=\"sk-item\"><div class=\"sk-serial\"><div class=\"sk-item sk-dashed-wrapped\"><div class=\"sk-label-container\"><div class=\"sk-label sk-toggleable\"><input class=\"sk-toggleable__control sk-hidden--visually\" id=\"sk-estimator-id-25\" type=\"checkbox\" ><label for=\"sk-estimator-id-25\" class=\"sk-toggleable__label sk-toggleable__label-arrow\">Encoder: ColumnTransformer</label><div class=\"sk-toggleable__content\"><pre>ColumnTransformer(remainder=&#x27;passthrough&#x27;,\n",
              "                  transformers=[(&#x27;BE&#x27;, BinaryEncoder(),\n",
              "                                 [&#x27;seller&#x27;, &#x27;offerType&#x27;, &#x27;gearbox&#x27;,\n",
              "                                  &#x27;notRepairedDamage&#x27;]),\n",
              "                                (&#x27;TE&#x27;, TargetEncoder(),\n",
              "                                 [&#x27;vehicleType&#x27;, &#x27;fuelType&#x27;, &#x27;model&#x27;,\n",
              "                                  &#x27;brand&#x27;])])</pre></div></div></div><div class=\"sk-parallel\"><div class=\"sk-parallel-item\"><div class=\"sk-item\"><div class=\"sk-label-container\"><div class=\"sk-label sk-toggleable\"><input class=\"sk-toggleable__control sk-hidden--visually\" id=\"sk-estimator-id-26\" type=\"checkbox\" ><label for=\"sk-estimator-id-26\" class=\"sk-toggleable__label sk-toggleable__label-arrow\">BE</label><div class=\"sk-toggleable__content\"><pre>[&#x27;seller&#x27;, &#x27;offerType&#x27;, &#x27;gearbox&#x27;, &#x27;notRepairedDamage&#x27;]</pre></div></div></div><div class=\"sk-serial\"><div class=\"sk-item\"><div class=\"sk-estimator sk-toggleable\"><input class=\"sk-toggleable__control sk-hidden--visually\" id=\"sk-estimator-id-27\" type=\"checkbox\" ><label for=\"sk-estimator-id-27\" class=\"sk-toggleable__label sk-toggleable__label-arrow\">BinaryEncoder</label><div class=\"sk-toggleable__content\"><pre>BinaryEncoder()</pre></div></div></div></div></div></div><div class=\"sk-parallel-item\"><div class=\"sk-item\"><div class=\"sk-label-container\"><div class=\"sk-label sk-toggleable\"><input class=\"sk-toggleable__control sk-hidden--visually\" id=\"sk-estimator-id-28\" type=\"checkbox\" ><label for=\"sk-estimator-id-28\" class=\"sk-toggleable__label sk-toggleable__label-arrow\">TE</label><div class=\"sk-toggleable__content\"><pre>[&#x27;vehicleType&#x27;, &#x27;fuelType&#x27;, &#x27;model&#x27;, &#x27;brand&#x27;]</pre></div></div></div><div class=\"sk-serial\"><div class=\"sk-item\"><div class=\"sk-estimator sk-toggleable\"><input class=\"sk-toggleable__control sk-hidden--visually\" id=\"sk-estimator-id-29\" type=\"checkbox\" ><label for=\"sk-estimator-id-29\" class=\"sk-toggleable__label sk-toggleable__label-arrow\">TargetEncoder</label><div class=\"sk-toggleable__content\"><pre>TargetEncoder()</pre></div></div></div></div></div></div><div class=\"sk-parallel-item\"><div class=\"sk-item\"><div class=\"sk-label-container\"><div class=\"sk-label sk-toggleable\"><input class=\"sk-toggleable__control sk-hidden--visually\" id=\"sk-estimator-id-30\" type=\"checkbox\" ><label for=\"sk-estimator-id-30\" class=\"sk-toggleable__label sk-toggleable__label-arrow\">remainder</label><div class=\"sk-toggleable__content\"><pre></pre></div></div></div><div class=\"sk-serial\"><div class=\"sk-item\"><div class=\"sk-estimator sk-toggleable\"><input class=\"sk-toggleable__control sk-hidden--visually\" id=\"sk-estimator-id-31\" type=\"checkbox\" ><label for=\"sk-estimator-id-31\" class=\"sk-toggleable__label sk-toggleable__label-arrow\">passthrough</label><div class=\"sk-toggleable__content\"><pre>passthrough</pre></div></div></div></div></div></div></div></div><div class=\"sk-item\"><div class=\"sk-estimator sk-toggleable\"><input class=\"sk-toggleable__control sk-hidden--visually\" id=\"sk-estimator-id-32\" type=\"checkbox\" ><label for=\"sk-estimator-id-32\" class=\"sk-toggleable__label sk-toggleable__label-arrow\">RobustScaler</label><div class=\"sk-toggleable__content\"><pre>RobustScaler()</pre></div></div></div><div class=\"sk-item\"><div class=\"sk-estimator sk-toggleable\"><input class=\"sk-toggleable__control sk-hidden--visually\" id=\"sk-estimator-id-33\" type=\"checkbox\" ><label for=\"sk-estimator-id-33\" class=\"sk-toggleable__label sk-toggleable__label-arrow\">XGBRegressor</label><div class=\"sk-toggleable__content\"><pre>XGBRegressor(base_score=None, booster=None, callbacks=None,\n",
              "             colsample_bylevel=None, colsample_bynode=None,\n",
              "             colsample_bytree=None, device=None, early_stopping_rounds=None,\n",
              "             enable_categorical=False, eval_metric=None, feature_types=None,\n",
              "             gamma=None, grow_policy=None, importance_type=None,\n",
              "             interaction_constraints=None, learning_rate=None, max_bin=None,\n",
              "             max_cat_threshold=None, max_cat_to_onehot=None,\n",
              "             max_delta_step=None, max_depth=None, max_leaves=None,\n",
              "             min_child_weight=None, missing=nan, monotone_constraints=None,\n",
              "             multi_strategy=None, n_estimators=None, n_jobs=None,\n",
              "             num_parallel_tree=None, random_state=None, ...)</pre></div></div></div></div></div></div></div></div></div></div></div></div>"
            ]
          },
          "metadata": {},
          "execution_count": 34
        }
      ]
    },
    {
      "cell_type": "code",
      "source": [
        "grid_search.best_params_"
      ],
      "metadata": {
        "colab": {
          "base_uri": "https://localhost:8080/"
        },
        "id": "jVcegEejOWIM",
        "outputId": "0c360eba-5b9c-44e5-ae54-44c3ad8ddcf8"
      },
      "execution_count": 35,
      "outputs": [
        {
          "output_type": "execute_result",
          "data": {
            "text/plain": [
              "{'xg__learning_rate': 0.2,\n",
              " 'xg__max_depth': 10,\n",
              " 'xg__n_estimators': 240,\n",
              " 'xg__reg_lambda': 3}"
            ]
          },
          "metadata": {},
          "execution_count": 35
        }
      ]
    },
    {
      "cell_type": "code",
      "source": [
        "grid_search.cv_results_[\"mean_train_score\"].mean()"
      ],
      "metadata": {
        "colab": {
          "base_uri": "https://localhost:8080/"
        },
        "id": "OlwHh1kEtQRU",
        "outputId": "8cd7b32c-230a-46ae-ab36-af7e5ac88a94"
      },
      "execution_count": 36,
      "outputs": [
        {
          "output_type": "execute_result",
          "data": {
            "text/plain": [
              "0.8666530567851561"
            ]
          },
          "metadata": {},
          "execution_count": 36
        }
      ]
    },
    {
      "cell_type": "code",
      "source": [
        "grid_search.cv_results_[\"mean_test_score\"].mean()"
      ],
      "metadata": {
        "colab": {
          "base_uri": "https://localhost:8080/"
        },
        "id": "E0mWByr1tQxX",
        "outputId": "1834a5b2-a00f-407d-e9bb-e15c171c0992"
      },
      "execution_count": 37,
      "outputs": [
        {
          "output_type": "execute_result",
          "data": {
            "text/plain": [
              "0.8020188190355118"
            ]
          },
          "metadata": {},
          "execution_count": 37
        }
      ]
    },
    {
      "cell_type": "code",
      "source": [],
      "metadata": {
        "id": "PsbKOKWJ3acZ"
      },
      "execution_count": 37,
      "outputs": []
    }
  ],
  "metadata": {
    "kernelspec": {
      "display_name": "ml-env",
      "language": "python",
      "name": "python3"
    },
    "language_info": {
      "codemirror_mode": {
        "name": "ipython",
        "version": 3
      },
      "file_extension": ".py",
      "mimetype": "text/x-python",
      "name": "python",
      "nbconvert_exporter": "python",
      "pygments_lexer": "ipython3",
      "version": "3.11.3"
    },
    "colab": {
      "provenance": []
    }
  },
  "nbformat": 4,
  "nbformat_minor": 0
}